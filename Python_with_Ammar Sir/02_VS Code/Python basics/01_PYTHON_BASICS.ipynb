{
 "cells": [
  {
   "cell_type": "markdown",
   "metadata": {},
   "source": [
    "> # __How to print in python?__"
   ]
  },
  {
   "cell_type": "code",
   "execution_count": null,
   "metadata": {},
   "outputs": [],
   "source": [
    "print(2+3)\n",
    "print(\"Hello World\")\n",
    "print(\"We are learning python\")\n"
   ]
  },
  {
   "cell_type": "markdown",
   "metadata": {},
   "source": [
    "> # __Strings__"
   ]
  },
  {
   "cell_type": "code",
   "execution_count": null,
   "metadata": {},
   "outputs": [],
   "source": [
    "print(\"Hello World\")\n",
    "print(\"We are learning python with sir Ammar\")\n",
    "\n",
    "print('Test for single quotes')\n",
    "print(\"Test for double quotes\")\n",
    "print('''Test for triple quotes''')\n",
    "print(\"  what's up  ?\") #If we'll use spaces in stings this will change o/p but outside will not\n",
    "print(   \"what's up\"    ) #o/p same"
   ]
  },
  {
   "cell_type": "markdown",
   "metadata": {},
   "source": [
    "> # __Comments in python__ "
   ]
  },
  {
   "cell_type": "code",
   "execution_count": null,
   "metadata": {},
   "outputs": [],
   "source": [
    "#Press (ctrl+/) to comment\n",
    "print(\"How are you?\") \n",
    "print(\"My self Muhammad Arslan Ahmad.\")  #To print your name\n",
    "print(2+6) #Addition operator"
   ]
  },
  {
   "cell_type": "markdown",
   "metadata": {},
   "source": [
    "> # __Variables__\n",
    "- Rules to assign variables\n",
    "- 1- The variable should contain letter, number or underscores\n",
    "- 2- Do not start with numbers\n",
    "- 3- Spaces are not allowed\n",
    "- 4- Do not use keywords used in function (break, mean, media, test etc)\n",
    "- 5- Short and descriptive\n",
    "- 6- Case sensitivity (Lower case letter, Upper case letter always use lower case letter)"
   ]
  },
  {
   "cell_type": "code",
   "execution_count": null,
   "metadata": {},
   "outputs": [],
   "source": [
    "# Variables: objects containing specific values\n",
    "x=5 # Numberic Variable or integer variable\n",
    "print(x)\n",
    "\n",
    "y=\"We are learning python with Ammar Sir\" # String variable\n",
    "print(y)  \n",
    "\n",
    "x=x+10 # Or x=15\n",
    "print(x)\n",
    "\n",
    "# Types/Class of variable\n",
    "print(type(x))\n",
    "print(type(y))\n",
    "\n",
    "fruit_basket=\"Mangoes\"\n",
    "del fruit_basket # To delete something\n",
    "print(fruit_basket)\n",
    "print(type(fruit_basket))"
   ]
  },
  {
   "cell_type": "markdown",
   "metadata": {},
   "source": [
    "# __Input variables__"
   ]
  },
  {
   "cell_type": "code",
   "execution_count": null,
   "metadata": {},
   "outputs": [],
   "source": [
    "fruit_basket=\"Mangoes\"\n",
    "print(fruit_basket)\n",
    "\n",
    "# #Input functions simple\n",
    "fruit_basket=input(\"Which is fruit your favourite fruit? \")\n",
    "print(fruit_basket)\n",
    "\n",
    "#Input functions stage 2\n",
    "name=input(\"What is your name?\")\n",
    "greetings=\"Hello!\"\n",
    "print(greetings,name)\n",
    "\n",
    "#Input functions stage 3\n",
    "name=input(\"What is your name? \")\n",
    "age=input(\"How old are you?\")\n",
    "greetings=\"Hello!\"\n",
    "print(greetings,name,\"You are still young.\")"
   ]
  },
  {
   "cell_type": "markdown",
   "metadata": {},
   "source": [
    "# __Conditional logics__\n",
    "# Logical operstors are either true or false\n",
    "- equal to                      ==\n",
    "- not equal to                  !=\n",
    "- less than                     >\n",
    "- greater than                  >            \n",
    "- less than and equal to        <=\n",
    "- greater than and equal to     >= \n"
   ]
  },
  {
   "cell_type": "code",
   "execution_count": null,
   "metadata": {},
   "outputs": [],
   "source": [
    "print(4==4)\n",
    "print(4!=4)\n",
    "print(4>3)\n",
    "print(3<4)\n",
    "print(3<=5)\n",
    "print(5>=3)\n",
    "\n",
    "# Applications of logical operators\n",
    "x_age=4\n",
    "school_age_requirement=5\n",
    "print(x_age==school_age_requirement)\n",
    "\n",
    "# input function and logical operator\n",
    "school_age_requirement=5\n",
    "x_age=input(\"What is your age=\" ) #input function\n",
    "x_age=int(x_age) # to convert string to integer\n",
    "print(type(x_age))\n",
    "print(x_age==school_age_requirement) # logical operator\n"
   ]
  },
  {
   "cell_type": "markdown",
   "metadata": {},
   "source": [
    "# __Type Conversion__"
   ]
  },
  {
   "cell_type": "code",
   "execution_count": null,
   "metadata": {},
   "outputs": [],
   "source": [
    "x=10            #Integer\n",
    "y=10.5          #Float\n",
    "z=\"Hello\"       #STring\n",
    "\n",
    "#Implicit type conversion\n",
    "x=x*y\n",
    "print(x, \"Type of x is: \" ,type(x))\n",
    "\n",
    "#exlicit tye conversion\n",
    "age=input(\"What is your age? \") #this age will be string not integer\n",
    "age=int(age) #this will be integer\n",
    "print(age, type(age))\n",
    "\n",
    "#Name\n",
    "name=input(\"What is your name? \")\n",
    "print(name, type(str(name)))"
   ]
  },
  {
   "cell_type": "markdown",
   "metadata": {},
   "source": [
    "# __If else statement__"
   ]
  },
  {
   "cell_type": "code",
   "execution_count": null,
   "metadata": {},
   "outputs": [],
   "source": [
    "required_age_at_school=5\n",
    "x_age=input(\"Tell your age: \")\n",
    "x_age=int(x_age)\n",
    "#Question: can x goto school?\n",
    "if x_age==required_age_at_school:\n",
    "    print(\"Cngratulations! x can join the school\")\n",
    "elif (x_age>required_age_at_school):\n",
    "    print(\"x should join higher secondary school\")\n",
    "else:\n",
    "    print(\"x cannot join the school\")\n"
   ]
  },
  {
   "cell_type": "markdown",
   "metadata": {},
   "source": [
    "# __Functions__"
   ]
  },
  {
   "cell_type": "code",
   "execution_count": null,
   "metadata": {},
   "outputs": [],
   "source": [
    "# Define function \n",
    "#1 way\n",
    "def print_my_name():\n",
    "    print(\"Arslan Ahmad\")\n",
    "\n",
    "print_my_name()\n",
    "\n",
    "# 2 way \n",
    "def print_my_name():\n",
    "    text=\"Muhammad Arslan Ahmad\"\n",
    "    print(text)\n",
    "\n",
    "print_my_name()\n",
    "\n",
    "# 3 way\n",
    "def print_my_name(text):\n",
    "    print(text)\n",
    "print_my_name(\"Muhammad Arsla Ahmad\")\n",
    "\n",
    "# 4 way \n",
    "#  Defining a function with if elif and else statements\n",
    "def school_age_calculator(age):\n",
    "    if age==5:\n",
    "        print(\"X can join the school\")\n",
    "    else:\n",
    "        print(\"X cannot join the school\")\n",
    "school_age_calculator(5)\n",
    "\n",
    "# Defining a function of future age \n",
    "def future_age(age):\n",
    "    new_age=age+20\n",
    "    return(new_age)\n",
    "print(future_age(18))\n",
    "\n"
   ]
  },
  {
   "cell_type": "markdown",
   "metadata": {},
   "source": [
    "# __Loops__"
   ]
  },
  {
   "cell_type": "code",
   "execution_count": null,
   "metadata": {},
   "outputs": [],
   "source": [
    "# while and for loops\n",
    "\n",
    "#while loops\n",
    "x=0\n",
    "while (x<5):\n",
    "    print(x)\n",
    "    x=x+1\n",
    "\n",
    "#for loops\n",
    "\n",
    "for x in range(5,10):\n",
    "    print(x)\n",
    "\n",
    "# arrays\n",
    "days=[\"Mon\",\"Tues\",\"Wed\",\"Thurs\",\"Fri\",\"Sat\",\"Sun\"]\n",
    "for i in (days):\n",
    "    if (i==\"Fri\"):break # break stops the loop\n",
    "    if (i==\"Fri\"):continue # continue skips i\n",
    "    print(i)\n",
    "\n"
   ]
  },
  {
   "cell_type": "markdown",
   "metadata": {},
   "source": []
  },
  {
   "cell_type": "markdown",
   "metadata": {},
   "source": [
    "# __Import libraries__"
   ]
  },
  {
   "cell_type": "code",
   "execution_count": null,
   "metadata": {},
   "outputs": [],
   "source": [
    "# if you want to print value of pi\n",
    "\n",
    "import math\n",
    "print(\"The value of pi is \",math.pi)\n",
    "\n",
    "# Library for mean,median etc\n",
    "import statistics\n",
    "x=[150,250,350,450]\n",
    "print(statistics.mean(x))\n"
   ]
  },
  {
   "cell_type": "markdown",
   "metadata": {},
   "source": [
    "# ___THE END___\n",
    " ------------------\n"
   ]
  }
 ],
 "metadata": {
  "interpreter": {
   "hash": "a1e66d0dd0a7fc2c8464a8c5d070d01dcd6087146d6d356941cac1264ee91058"
  },
  "kernelspec": {
   "display_name": "Python 3.10.1 64-bit",
   "language": "python",
   "name": "python3"
  },
  "language_info": {
   "name": "python",
   "version": "3.9.7"
  },
  "orig_nbformat": 4
 },
 "nbformat": 4,
 "nbformat_minor": 2
}
