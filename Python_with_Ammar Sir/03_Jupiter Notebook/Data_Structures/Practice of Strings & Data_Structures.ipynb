{
 "cells": [
  {
   "cell_type": "markdown",
   "id": "d96812eb",
   "metadata": {},
   "source": [
    "# Strings"
   ]
  },
  {
   "cell_type": "code",
   "execution_count": 1,
   "id": "1fdeeae2",
   "metadata": {},
   "outputs": [
    {
     "data": {
      "text/plain": [
       "'Muhammad Arslan Ahmad'"
      ]
     },
     "execution_count": 1,
     "metadata": {},
     "output_type": "execute_result"
    }
   ],
   "source": [
    "a=\"Muhammad Arslan Ahmad\"\n",
    "a"
   ]
  },
  {
   "cell_type": "code",
   "execution_count": 2,
   "id": "75b213a2",
   "metadata": {},
   "outputs": [
    {
     "data": {
      "text/plain": [
       "21"
      ]
     },
     "execution_count": 2,
     "metadata": {},
     "output_type": "execute_result"
    }
   ],
   "source": [
    "len(a)"
   ]
  },
  {
   "cell_type": "code",
   "execution_count": 3,
   "id": "b09d0ce2",
   "metadata": {},
   "outputs": [
    {
     "data": {
      "text/plain": [
       "'Muhammad arslan ahmad'"
      ]
     },
     "execution_count": 3,
     "metadata": {},
     "output_type": "execute_result"
    }
   ],
   "source": [
    "a.capitalize() # Capatilize the first alphabet"
   ]
  },
  {
   "cell_type": "code",
   "execution_count": 4,
   "id": "2377e806",
   "metadata": {},
   "outputs": [
    {
     "data": {
      "text/plain": [
       "2"
      ]
     },
     "execution_count": 4,
     "metadata": {},
     "output_type": "execute_result"
    }
   ],
   "source": [
    "a.count(\"A\") #Count how many times the alphabet is used in the string"
   ]
  },
  {
   "cell_type": "code",
   "execution_count": 5,
   "id": "6d6c9a03",
   "metadata": {},
   "outputs": [
    {
     "data": {
      "text/plain": [
       "4"
      ]
     },
     "execution_count": 5,
     "metadata": {},
     "output_type": "execute_result"
    }
   ],
   "source": [
    "a.count(\"a\")"
   ]
  },
  {
   "cell_type": "code",
   "execution_count": 6,
   "id": "4c299214",
   "metadata": {},
   "outputs": [
    {
     "data": {
      "text/plain": [
       "'muhammad arslan ahmad'"
      ]
     },
     "execution_count": 6,
     "metadata": {},
     "output_type": "execute_result"
    }
   ],
   "source": [
    "a.lower() #Lowercase"
   ]
  },
  {
   "cell_type": "code",
   "execution_count": 7,
   "id": "881d8ddf",
   "metadata": {},
   "outputs": [
    {
     "data": {
      "text/plain": [
       "'MUHAMMAD ARSLAN AHMAD'"
      ]
     },
     "execution_count": 7,
     "metadata": {},
     "output_type": "execute_result"
    }
   ],
   "source": [
    "a.upper() #Uppercase "
   ]
  },
  {
   "cell_type": "code",
   "execution_count": 8,
   "id": "d474ebad",
   "metadata": {},
   "outputs": [
    {
     "data": {
      "text/plain": [
       "9"
      ]
     },
     "execution_count": 8,
     "metadata": {},
     "output_type": "execute_result"
    }
   ],
   "source": [
    "a.find(\"A\") #Find the index of that alphabet"
   ]
  },
  {
   "cell_type": "code",
   "execution_count": 9,
   "id": "16b9ba17",
   "metadata": {},
   "outputs": [
    {
     "data": {
      "text/plain": [
       "'Muhemmed Arslen Ahmed'"
      ]
     },
     "execution_count": 9,
     "metadata": {},
     "output_type": "execute_result"
    }
   ],
   "source": [
    "a.replace(\"a\",\"e\") #Replace that alphabet"
   ]
  },
  {
   "cell_type": "code",
   "execution_count": 10,
   "id": "b1c1cfba",
   "metadata": {},
   "outputs": [
    {
     "data": {
      "text/plain": [
       "'I am a student of UET Lahore,Faisalabad campus'"
      ]
     },
     "execution_count": 10,
     "metadata": {},
     "output_type": "execute_result"
    }
   ],
   "source": [
    "b=\"I am a student of UET Lahore,Faisalabad campus\"\n",
    "b"
   ]
  },
  {
   "cell_type": "code",
   "execution_count": 11,
   "id": "cd8c3fe9",
   "metadata": {},
   "outputs": [
    {
     "data": {
      "text/plain": [
       "'I am a student of uet lahore,faisalabad campus'"
      ]
     },
     "execution_count": 11,
     "metadata": {},
     "output_type": "execute_result"
    }
   ],
   "source": [
    "b.capitalize()\n"
   ]
  },
  {
   "cell_type": "code",
   "execution_count": 12,
   "id": "a6869b6f",
   "metadata": {},
   "outputs": [
    {
     "data": {
      "text/plain": [
       "'I AM A STUDENT OF UET LAHORE,FAISALABAD CAMPUS'"
      ]
     },
     "execution_count": 12,
     "metadata": {},
     "output_type": "execute_result"
    }
   ],
   "source": [
    "b.upper()"
   ]
  },
  {
   "cell_type": "code",
   "execution_count": 13,
   "id": "92bb19cf",
   "metadata": {},
   "outputs": [
    {
     "data": {
      "text/plain": [
       "'i am a student of uet lahore,faisalabad campus'"
      ]
     },
     "execution_count": 13,
     "metadata": {},
     "output_type": "execute_result"
    }
   ],
   "source": [
    "b.lower()"
   ]
  },
  {
   "cell_type": "code",
   "execution_count": 14,
   "id": "d1e7ed0f",
   "metadata": {},
   "outputs": [
    {
     "data": {
      "text/plain": [
       "0"
      ]
     },
     "execution_count": 14,
     "metadata": {},
     "output_type": "execute_result"
    }
   ],
   "source": [
    "b.count(\"A\")"
   ]
  },
  {
   "cell_type": "code",
   "execution_count": 15,
   "id": "2a4c352f",
   "metadata": {},
   "outputs": [
    {
     "data": {
      "text/plain": [
       "8"
      ]
     },
     "execution_count": 15,
     "metadata": {},
     "output_type": "execute_result"
    }
   ],
   "source": [
    "b.count(\"a\")"
   ]
  },
  {
   "cell_type": "code",
   "execution_count": 16,
   "id": "e59af795",
   "metadata": {},
   "outputs": [
    {
     "data": {
      "text/plain": [
       "18"
      ]
     },
     "execution_count": 16,
     "metadata": {},
     "output_type": "execute_result"
    }
   ],
   "source": [
    "b.find(\"U\")"
   ]
  },
  {
   "cell_type": "code",
   "execution_count": 17,
   "id": "03b46fe0",
   "metadata": {},
   "outputs": [
    {
     "data": {
      "text/plain": [
       "46"
      ]
     },
     "execution_count": 17,
     "metadata": {},
     "output_type": "execute_result"
    }
   ],
   "source": [
    "len(b)"
   ]
  },
  {
   "cell_type": "code",
   "execution_count": 18,
   "id": "6727befa",
   "metadata": {},
   "outputs": [
    {
     "data": {
      "text/plain": [
       "['I am a student of UET Lahore', 'Faisalabad campus']"
      ]
     },
     "execution_count": 18,
     "metadata": {},
     "output_type": "execute_result"
    }
   ],
   "source": [
    "b.split(\",\") #Split the string on the basis of what we use in original string"
   ]
  },
  {
   "cell_type": "code",
   "execution_count": 19,
   "id": "79706e46",
   "metadata": {
    "scrolled": true
   },
   "outputs": [
    {
     "data": {
      "text/plain": [
       "'I am a student of University of Engineering and Technology Lahore,Faisalabad campus'"
      ]
     },
     "execution_count": 19,
     "metadata": {},
     "output_type": "execute_result"
    }
   ],
   "source": [
    "b.replace(\"UET\",\"University of Engineering and Technology\")"
   ]
  },
  {
   "cell_type": "code",
   "execution_count": 20,
   "id": "293edf64",
   "metadata": {},
   "outputs": [
    {
     "data": {
      "text/plain": [
       "str"
      ]
     },
     "execution_count": 20,
     "metadata": {},
     "output_type": "execute_result"
    }
   ],
   "source": [
    "type(a)"
   ]
  },
  {
   "cell_type": "code",
   "execution_count": 21,
   "id": "3ed896a8",
   "metadata": {},
   "outputs": [
    {
     "data": {
      "text/plain": [
       "str"
      ]
     },
     "execution_count": 21,
     "metadata": {},
     "output_type": "execute_result"
    }
   ],
   "source": [
    "type(b)"
   ]
  },
  {
   "cell_type": "markdown",
   "id": "df7f4831",
   "metadata": {},
   "source": [
    "# Tuples\n"
   ]
  },
  {
   "cell_type": "code",
   "execution_count": 22,
   "id": "164c4b80",
   "metadata": {},
   "outputs": [
    {
     "data": {
      "text/plain": [
       "('Muhammad Arslan Ahmad', 409, 'Uet', 75.5)"
      ]
     },
     "execution_count": 22,
     "metadata": {},
     "output_type": "execute_result"
    }
   ],
   "source": [
    "a1=(\"Muhammad Arslan Ahmad\",409,\"Uet\",75.5)\n",
    "a1"
   ]
  },
  {
   "cell_type": "code",
   "execution_count": 23,
   "id": "9eece1af",
   "metadata": {},
   "outputs": [
    {
     "data": {
      "text/plain": [
       "tuple"
      ]
     },
     "execution_count": 23,
     "metadata": {},
     "output_type": "execute_result"
    }
   ],
   "source": [
    "type(a1)"
   ]
  },
  {
   "cell_type": "code",
   "execution_count": 24,
   "id": "2cc70f67",
   "metadata": {},
   "outputs": [
    {
     "data": {
      "text/plain": [
       "4"
      ]
     },
     "execution_count": 24,
     "metadata": {},
     "output_type": "execute_result"
    }
   ],
   "source": [
    "len(a1)"
   ]
  },
  {
   "cell_type": "code",
   "execution_count": 25,
   "id": "3f0cc598",
   "metadata": {},
   "outputs": [
    {
     "data": {
      "text/plain": [
       "('Muhammad Arslan Ahmad', 409, 'Uet', 75.5)"
      ]
     },
     "execution_count": 25,
     "metadata": {},
     "output_type": "execute_result"
    }
   ],
   "source": [
    "a1[0:4]"
   ]
  },
  {
   "cell_type": "code",
   "execution_count": 26,
   "id": "c309c13e",
   "metadata": {},
   "outputs": [
    {
     "data": {
      "text/plain": [
       "75.5"
      ]
     },
     "execution_count": 26,
     "metadata": {},
     "output_type": "execute_result"
    }
   ],
   "source": [
    "a1[3]"
   ]
  },
  {
   "cell_type": "code",
   "execution_count": 27,
   "id": "8e4d7b3f",
   "metadata": {},
   "outputs": [
    {
     "data": {
      "text/plain": [
       "(432, 492, 678, 1000, 12345, 87659)"
      ]
     },
     "execution_count": 27,
     "metadata": {},
     "output_type": "execute_result"
    }
   ],
   "source": [
    "a2=(432,492,678,1000,12345,87659)\n",
    "a2"
   ]
  },
  {
   "cell_type": "code",
   "execution_count": 28,
   "id": "88cadce4",
   "metadata": {},
   "outputs": [
    {
     "data": {
      "text/plain": [
       "tuple"
      ]
     },
     "execution_count": 28,
     "metadata": {},
     "output_type": "execute_result"
    }
   ],
   "source": [
    "type(a2)"
   ]
  },
  {
   "cell_type": "code",
   "execution_count": 29,
   "id": "a45ea9b8",
   "metadata": {},
   "outputs": [
    {
     "data": {
      "text/plain": [
       "6"
      ]
     },
     "execution_count": 29,
     "metadata": {},
     "output_type": "execute_result"
    }
   ],
   "source": [
    "len(a2)"
   ]
  },
  {
   "cell_type": "code",
   "execution_count": 30,
   "id": "888b3a42",
   "metadata": {},
   "outputs": [
    {
     "data": {
      "text/plain": [
       "87659"
      ]
     },
     "execution_count": 30,
     "metadata": {},
     "output_type": "execute_result"
    }
   ],
   "source": [
    "a2[5]"
   ]
  },
  {
   "cell_type": "code",
   "execution_count": 31,
   "id": "31e68c18",
   "metadata": {},
   "outputs": [
    {
     "data": {
      "text/plain": [
       "432"
      ]
     },
     "execution_count": 31,
     "metadata": {},
     "output_type": "execute_result"
    }
   ],
   "source": [
    "min(a2)"
   ]
  },
  {
   "cell_type": "code",
   "execution_count": 32,
   "id": "f745382d",
   "metadata": {},
   "outputs": [
    {
     "data": {
      "text/plain": [
       "87659"
      ]
     },
     "execution_count": 32,
     "metadata": {},
     "output_type": "execute_result"
    }
   ],
   "source": [
    "max(a2)"
   ]
  },
  {
   "cell_type": "code",
   "execution_count": 33,
   "id": "f367ee0b",
   "metadata": {},
   "outputs": [
    {
     "data": {
      "text/plain": [
       "('Muhammad Arslan Ahmad', 409, 'Uet', 75.5, 432, 492, 678, 1000, 12345, 87659)"
      ]
     },
     "execution_count": 33,
     "metadata": {},
     "output_type": "execute_result"
    }
   ],
   "source": [
    "a1+a2"
   ]
  },
  {
   "cell_type": "code",
   "execution_count": 34,
   "id": "7f8ad1d9",
   "metadata": {},
   "outputs": [
    {
     "data": {
      "text/plain": [
       "('Muhammad Arslan Ahmad',\n",
       " 409,\n",
       " 'Uet',\n",
       " 75.5,\n",
       " 432,\n",
       " 492,\n",
       " 678,\n",
       " 1000,\n",
       " 12345,\n",
       " 87659,\n",
       " 432,\n",
       " 492,\n",
       " 678,\n",
       " 1000,\n",
       " 12345,\n",
       " 87659)"
      ]
     },
     "execution_count": 34,
     "metadata": {},
     "output_type": "execute_result"
    }
   ],
   "source": [
    "a1+a2*2"
   ]
  },
  {
   "cell_type": "markdown",
   "id": "c77d0518",
   "metadata": {},
   "source": [
    "# List"
   ]
  },
  {
   "cell_type": "code",
   "execution_count": 35,
   "id": "0281a3e9",
   "metadata": {},
   "outputs": [
    {
     "data": {
      "text/plain": [
       "['Muhammad Arslan Ahmad', 409, 'Uet', 75.5]"
      ]
     },
     "execution_count": 35,
     "metadata": {},
     "output_type": "execute_result"
    }
   ],
   "source": [
    "l1=[\"Muhammad Arslan Ahmad\",409,\"Uet\",75.5]\n",
    "l1"
   ]
  },
  {
   "cell_type": "code",
   "execution_count": 36,
   "id": "d4f13ca9",
   "metadata": {},
   "outputs": [
    {
     "data": {
      "text/plain": [
       "list"
      ]
     },
     "execution_count": 36,
     "metadata": {},
     "output_type": "execute_result"
    }
   ],
   "source": [
    "type(l1)"
   ]
  },
  {
   "cell_type": "code",
   "execution_count": 37,
   "id": "eddaf0da",
   "metadata": {},
   "outputs": [
    {
     "data": {
      "text/plain": [
       "4"
      ]
     },
     "execution_count": 37,
     "metadata": {},
     "output_type": "execute_result"
    }
   ],
   "source": [
    "len(l1)"
   ]
  },
  {
   "cell_type": "code",
   "execution_count": 38,
   "id": "fb71644f",
   "metadata": {},
   "outputs": [
    {
     "data": {
      "text/plain": [
       "75.5"
      ]
     },
     "execution_count": 38,
     "metadata": {},
     "output_type": "execute_result"
    }
   ],
   "source": [
    "l1[3]"
   ]
  },
  {
   "cell_type": "code",
   "execution_count": 39,
   "id": "ba293a2e",
   "metadata": {},
   "outputs": [
    {
     "data": {
      "text/plain": [
       "['Muhammad Arslan Ahmad', 409, 'Uet', 75.5]"
      ]
     },
     "execution_count": 39,
     "metadata": {},
     "output_type": "execute_result"
    }
   ],
   "source": [
    "l1[0:4]"
   ]
  },
  {
   "cell_type": "code",
   "execution_count": 40,
   "id": "30692b76",
   "metadata": {},
   "outputs": [
    {
     "data": {
      "text/plain": [
       "['Muhammad Arslan Ahmad', 409, 'Uet', 75.5, 'Student']"
      ]
     },
     "execution_count": 40,
     "metadata": {},
     "output_type": "execute_result"
    }
   ],
   "source": [
    "l1.append(\"Student\")\n",
    "l1"
   ]
  },
  {
   "cell_type": "code",
   "execution_count": 41,
   "id": "f2f44ad0",
   "metadata": {
    "scrolled": true
   },
   "outputs": [
    {
     "data": {
      "text/plain": [
       "['Student', 75.5, 'Uet', 409, 'Muhammad Arslan Ahmad']"
      ]
     },
     "execution_count": 41,
     "metadata": {},
     "output_type": "execute_result"
    }
   ],
   "source": [
    "l1.reverse()\n",
    "l1"
   ]
  },
  {
   "cell_type": "code",
   "execution_count": 42,
   "id": "f0969dc2",
   "metadata": {},
   "outputs": [
    {
     "data": {
      "text/plain": [
       "[20, 40, 60, 1000, 100, 80, 90]"
      ]
     },
     "execution_count": 42,
     "metadata": {},
     "output_type": "execute_result"
    }
   ],
   "source": [
    "l2=[20,40,60,1000,100,80,90]\n",
    "l2"
   ]
  },
  {
   "cell_type": "code",
   "execution_count": 43,
   "id": "711af83f",
   "metadata": {},
   "outputs": [
    {
     "data": {
      "text/plain": [
       "[20, 40, 60, 80, 90, 100, 1000]"
      ]
     },
     "execution_count": 43,
     "metadata": {},
     "output_type": "execute_result"
    }
   ],
   "source": [
    "l2.sort()\n",
    "l2"
   ]
  },
  {
   "cell_type": "code",
   "execution_count": 44,
   "id": "26e25918",
   "metadata": {},
   "outputs": [
    {
     "data": {
      "text/plain": [
       "['Student',\n",
       " 75.5,\n",
       " 'Uet',\n",
       " 409,\n",
       " 'Muhammad Arslan Ahmad',\n",
       " 20,\n",
       " 40,\n",
       " 60,\n",
       " 80,\n",
       " 90,\n",
       " 100,\n",
       " 1000]"
      ]
     },
     "execution_count": 44,
     "metadata": {},
     "output_type": "execute_result"
    }
   ],
   "source": [
    "l1 + l2"
   ]
  },
  {
   "cell_type": "markdown",
   "id": "99008203",
   "metadata": {},
   "source": [
    "# Dictionaries"
   ]
  },
  {
   "cell_type": "code",
   "execution_count": 45,
   "id": "9752f348",
   "metadata": {},
   "outputs": [
    {
     "data": {
      "text/plain": [
       "{'Linear Algebra': 75.5, 'CAD': 85, 'EMF': 80, 'Discrete Math': 70, 'TWP': 85}"
      ]
     },
     "execution_count": 45,
     "metadata": {},
     "output_type": "execute_result"
    }
   ],
   "source": [
    "dic1={\"Linear Algebra\":75.5,\"CAD\":85,\"EMF\":80,\"Discrete Math\":70,\"TWP\":85}\n",
    "dic1"
   ]
  },
  {
   "cell_type": "code",
   "execution_count": 46,
   "id": "f7b7401c",
   "metadata": {},
   "outputs": [
    {
     "data": {
      "text/plain": [
       "dict"
      ]
     },
     "execution_count": 46,
     "metadata": {},
     "output_type": "execute_result"
    }
   ],
   "source": [
    "type(dic1)"
   ]
  },
  {
   "cell_type": "code",
   "execution_count": 47,
   "id": "f19a4d88",
   "metadata": {},
   "outputs": [
    {
     "data": {
      "text/plain": [
       "5"
      ]
     },
     "execution_count": 47,
     "metadata": {},
     "output_type": "execute_result"
    }
   ],
   "source": [
    "len(dic1)"
   ]
  },
  {
   "cell_type": "code",
   "execution_count": 48,
   "id": "ee8214e1",
   "metadata": {},
   "outputs": [
    {
     "data": {
      "text/plain": [
       "dict_keys(['Linear Algebra', 'CAD', 'EMF', 'Discrete Math', 'TWP'])"
      ]
     },
     "execution_count": 48,
     "metadata": {},
     "output_type": "execute_result"
    }
   ],
   "source": [
    "dic1.keys()"
   ]
  },
  {
   "cell_type": "code",
   "execution_count": 49,
   "id": "db9b06c6",
   "metadata": {},
   "outputs": [
    {
     "data": {
      "text/plain": [
       "dict_values([75.5, 85, 80, 70, 85])"
      ]
     },
     "execution_count": 49,
     "metadata": {},
     "output_type": "execute_result"
    }
   ],
   "source": [
    "dic1.values()"
   ]
  },
  {
   "cell_type": "code",
   "execution_count": 50,
   "id": "792afd91",
   "metadata": {},
   "outputs": [
    {
     "data": {
      "text/plain": [
       "{'Linear Algebra': 75.5,\n",
       " 'CAD': 85,\n",
       " 'EMF': 80,\n",
       " 'Discrete Math': 70,\n",
       " 'TWP': 85,\n",
       " 'Cad lab': 79}"
      ]
     },
     "execution_count": 50,
     "metadata": {},
     "output_type": "execute_result"
    }
   ],
   "source": [
    "dic1.update({\"Cad lab\":79}) #Updating a dict\n",
    "dic1"
   ]
  },
  {
   "cell_type": "markdown",
   "id": "3b2dce3b",
   "metadata": {},
   "source": [
    "# Sets"
   ]
  },
  {
   "cell_type": "code",
   "execution_count": 51,
   "id": "4296ae24",
   "metadata": {},
   "outputs": [
    {
     "data": {
      "text/plain": [
       "{409, 75.5, 'Muhammad Arslan Ahmad', 'Uet'}"
      ]
     },
     "execution_count": 51,
     "metadata": {},
     "output_type": "execute_result"
    }
   ],
   "source": [
    "s1={\"Muhammad Arslan Ahmad\",409,\"Uet\",75.5}\n",
    "s1"
   ]
  },
  {
   "cell_type": "code",
   "execution_count": 52,
   "id": "af840528",
   "metadata": {},
   "outputs": [
    {
     "data": {
      "text/plain": [
       "set"
      ]
     },
     "execution_count": 52,
     "metadata": {},
     "output_type": "execute_result"
    }
   ],
   "source": [
    "type(s1)"
   ]
  },
  {
   "cell_type": "code",
   "execution_count": 53,
   "id": "61d18386",
   "metadata": {},
   "outputs": [
    {
     "data": {
      "text/plain": [
       "4"
      ]
     },
     "execution_count": 53,
     "metadata": {},
     "output_type": "execute_result"
    }
   ],
   "source": [
    "len(s1)"
   ]
  },
  {
   "cell_type": "code",
   "execution_count": 54,
   "id": "49a0d324",
   "metadata": {},
   "outputs": [
    {
     "data": {
      "text/plain": [
       "{409, 75.5, 'Muhammad Arslan Ahmad', 'Student', 'Uet'}"
      ]
     },
     "execution_count": 54,
     "metadata": {},
     "output_type": "execute_result"
    }
   ],
   "source": [
    "s1.add(\"Student\")\n",
    "s1"
   ]
  },
  {
   "cell_type": "code",
   "execution_count": 55,
   "id": "94a0bc51",
   "metadata": {},
   "outputs": [
    {
     "data": {
      "text/plain": [
       "{409, 75.5, 'Muhammad Arslan Ahmad', 'Uet'}"
      ]
     },
     "execution_count": 55,
     "metadata": {},
     "output_type": "execute_result"
    }
   ],
   "source": [
    "s1.remove(\"Student\")\n",
    "s1"
   ]
  },
  {
   "cell_type": "code",
   "execution_count": null,
   "id": "da0927d8",
   "metadata": {},
   "outputs": [],
   "source": []
  },
  {
   "cell_type": "code",
   "execution_count": null,
   "id": "c86ed1a7",
   "metadata": {},
   "outputs": [],
   "source": []
  }
 ],
 "metadata": {
  "kernelspec": {
   "display_name": "Python 3 (ipykernel)",
   "language": "python",
   "name": "python3"
  },
  "language_info": {
   "codemirror_mode": {
    "name": "ipython",
    "version": 3
   },
   "file_extension": ".py",
   "mimetype": "text/x-python",
   "name": "python",
   "nbconvert_exporter": "python",
   "pygments_lexer": "ipython3",
   "version": "3.9.7"
  }
 },
 "nbformat": 4,
 "nbformat_minor": 5
}
