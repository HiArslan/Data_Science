{
 "cells": [
  {
   "cell_type": "markdown",
   "metadata": {},
   "source": [
    "# Types of test \n",
    "## Parametric Tests :\n",
    "- More reliable results\n",
    "- We have to meet the assumption\n",
    "## Non-parametric Tests :\n",
    "- Not reliable results\n",
    "- We don't have to meet the assumption"
   ]
  },
  {
   "cell_type": "markdown",
   "metadata": {},
   "source": [
    "# Step-1\n",
    "- Normality test\n",
    "- Tests to be used :\n",
    "  - Shapiro-wilk test (Reliable)\n",
    "  - Kolmogorov-Smirnov Test (Less Reliable)\n",
    "# Step-2\n",
    "- Homogenity Test\n",
    "- Tests to be used :\n",
    "  - Levene Test\n",
    "# Step-3\n",
    "- Purpose\n",
    "- Two types of purposes:\n",
    "  - Comparison\n",
    "    - Compare at least two groups(Like males Vs female)\n",
    "  - Relationship\n",
    "    - Corelations(Covid cases)\n",
    "# Step-4\n",
    "-Data Type\n",
    "  -Categorical variable (Quality Yes or No)\n",
    "  -Continous variable (Quantity Age,Amount)\n",
    "   \n"
   ]
  },
  {
   "cell_type": "markdown",
   "metadata": {},
   "source": [
    "# Step -5 \n",
    "- Statistical tests\n",
    "- There are three types of statistical tests : \\\n",
    "  1- Chi-squarred (Categorical based)\n",
    "  2- t-Test or Anova test (Categorical and continous based)\n",
    "  3- Correlation  (Relationship and continous variables)\n",
    "    - ### Chi-squarred test:\n",
    "      - Purpose comparison (Categorical)\n",
    "      - Can be used with any number of groups\n",
    "      - You must remember the purpose and datatype\n",
    "      - Ordinal variable can also be used in this test\n",
    "    - ### t-Test or Anova test:\n",
    "      - Purpose comparison (Categorical and continous) \n",
    "        - #### One sample t-Test:\n",
    "          - Comparison of group with a known value\n",
    "        - #### Two sample t-Test:\n",
    "          - Unpaired t-Test (Two different groups) (Comparison of a group's girls and boys)\n",
    "          - Paired t-Test (Same group twice) (same Boys math marks and stat marks) (same source)\n",
    "        - #### Anova :\n",
    "          - Ananlysis of variance\n",
    "          - 3 or more than 3  groups comparison\n",
    "      - ### Correlation:\n",
    "        - Purpose relationships (Continous variables)\n",
    "         - #### Pearson's Correlation:\n",
    "           - One dependent and one independent variable\n",
    "         - #### Regression:\n",
    "           -  One dependent and one independent variable and we deal with an equation"
   ]
  }
 ],
 "metadata": {
  "language_info": {
   "name": "python"
  },
  "orig_nbformat": 4
 },
 "nbformat": 4,
 "nbformat_minor": 2
}
