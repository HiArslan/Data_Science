{
 "cells": [
  {
   "cell_type": "markdown",
   "id": "d5a5ecb9",
   "metadata": {},
   "source": [
    "# Python ka chilla with Baba_Ammar\n",
    "## How to use Jupiter notebook\n",
    "### Basics of python \n",
    "**01- My first program**"
   ]
  },
  {
   "cell_type": "code",
   "execution_count": 1,
   "id": "d871b1d2",
   "metadata": {},
   "outputs": [
    {
     "name": "stdout",
     "output_type": "stream",
     "text": [
      "5\n",
      "Hello World\n",
      "We are learning python with sir Ammar\n"
     ]
    }
   ],
   "source": [
    "#My first program in python\n",
    "print(2+3)\n",
    "print(\"Hello World\")\n",
    "print(\"We are learning python with sir Ammar\")\n"
   ]
  },
  {
   "cell_type": "markdown",
   "id": "96f9463d",
   "metadata": {},
   "source": [
    "**02_Operators**"
   ]
  },
  {
   "cell_type": "code",
   "execution_count": 2,
   "id": "aa87431f",
   "metadata": {
    "scrolled": false
   },
   "outputs": [
    {
     "name": "stdout",
     "output_type": "stream",
     "text": [
      "5\n",
      "1\n",
      "3.0\n",
      "6\n",
      "1\n",
      "3\n",
      "8\n",
      "5.75\n"
     ]
    }
   ],
   "source": [
    "print(2+3)\n",
    "print(3-2)\n",
    "print(6/2)\n",
    "print(2*3)\n",
    "print(13%2)\n",
    "print(6//2)\n",
    "print(2**3)\n",
    "\n",
    "print(4**2//3+2-1/4*5) #PEMDAS Paranthesis Exponense Multiply Divide Addition Subtracion \n",
    "\n"
   ]
  },
  {
   "cell_type": "markdown",
   "id": "ee5b9ec4",
   "metadata": {},
   "source": [
    " *PEMDAS Paranthesis Exponense Multiply Divide Addition Subtracion*\n"
   ]
  },
  {
   "cell_type": "markdown",
   "id": "469230a4",
   "metadata": {},
   "source": [
    "**03_Strings**"
   ]
  },
  {
   "cell_type": "code",
   "execution_count": 3,
   "id": "38e75f2e",
   "metadata": {},
   "outputs": [
    {
     "name": "stdout",
     "output_type": "stream",
     "text": [
      "Hello World\n",
      "We are learning python with sir Ammar\n",
      "Test for single quotes\n",
      "Test for double quotes\n",
      "Test for triple quotes\n",
      "  what's up  ?\n",
      "what's up\n"
     ]
    }
   ],
   "source": [
    "print(\"Hello World\")\n",
    "print(\"We are learning python with sir Ammar\")\n",
    "\n",
    "print('Test for single quotes')\n",
    "print(\"Test for double quotes\")\n",
    "print('''Test for triple quotes''')\n",
    "print(\"  what's up  ?\") #If we'll use spaces in stings this will change o/p but outside will not\n",
    "print(   \"what's up\"    ) #o/p same"
   ]
  },
  {
   "cell_type": "markdown",
   "id": "e370cbdc",
   "metadata": {},
   "source": [
    "*If we'll use spaces in stings this will change o/p but outside will not*\n",
    "\n",
    "*o/p same*\n"
   ]
  },
  {
   "cell_type": "markdown",
   "id": "64e84da7",
   "metadata": {},
   "source": [
    "**04_Comments**"
   ]
  },
  {
   "cell_type": "code",
   "execution_count": 4,
   "id": "584377f5",
   "metadata": {},
   "outputs": [
    {
     "name": "stdout",
     "output_type": "stream",
     "text": [
      "How are you?\n",
      "My self Muhammad Arslan Ahmad.\n",
      "8\n"
     ]
    }
   ],
   "source": [
    "print(\"How are you?\") #Press (ctrl+/) to comment\n",
    "print(\"My self Muhammad Arslan Ahmad.\")  #To print your name\n",
    "print(2+6) #Addition operator"
   ]
  },
  {
   "cell_type": "markdown",
   "id": "ffc91628",
   "metadata": {},
   "source": [
    "*Press (ctrl+/) to comment*\n",
    "\n",
    "*To print your name*\n",
    "\n",
    "*Addition operator*\n"
   ]
  },
  {
   "cell_type": "markdown",
   "id": "ce2cb31d",
   "metadata": {},
   "source": [
    "**05_Variables**"
   ]
  },
  {
   "cell_type": "markdown",
   "id": "10bc5c47",
   "metadata": {},
   "source": [
    "# Rules to assign variables\n",
    "\n",
    "1- The variable should contain letter, number or underscores\n",
    "\n",
    "2- Do not start with numbers\n",
    "\n",
    "3- Spaces are not allowed\n",
    "\n",
    "4- Do not use keywords used in function (break, mean, media, test etc)\n",
    "\n",
    "5- Short and descriptive\n",
    "\n",
    "6- Case sensitivity (Lower case letter, Upper case letter always use lower case letter)"
   ]
  },
  {
   "cell_type": "code",
   "execution_count": 5,
   "id": "8476719e",
   "metadata": {},
   "outputs": [
    {
     "name": "stdout",
     "output_type": "stream",
     "text": [
      "5\n",
      "We are learning python with Ammar Sir\n",
      "15\n",
      "<class 'int'>\n",
      "<class 'str'>\n",
      "Mangoes\n",
      "<class 'str'>\n"
     ]
    }
   ],
   "source": [
    "# Variables: objects containing specific values\n",
    "x=5 # Numberi Variable or integer variable\n",
    "print(x)\n",
    "\n",
    "y=\"We are learning python with Ammar Sir\" # String variable\n",
    "print(y)  \n",
    "\n",
    "x=x+10 # Or x=15\n",
    "print(x)\n",
    "\n",
    "# Types/Class of variable\n",
    "print(type(x))\n",
    "print(type(y))\n",
    "\n",
    "# Rules to assign variables\n",
    "# 1- The variable should contain letter, number or underscores\n",
    "# 2- Do not start with numbers\n",
    "# 3- Spaces are not allowed\n",
    "# 4- Do not use keywords used in function (break, mean, media, test etc)\n",
    "# 5- Short and descriptive\n",
    "# 6- Case sensitivity (Lower case letter, Upper case letter always use lower case letter)\n",
    "\n",
    "fruit_basket=\"Mangoes\"\n",
    "#del fruit_basket # To delete something\n",
    "print(fruit_basket)\n",
    "print(type(fruit_basket))\n"
   ]
  },
  {
   "cell_type": "markdown",
   "id": "b5dc01aa",
   "metadata": {},
   "source": [
    "**06_Input_variables**"
   ]
  },
  {
   "cell_type": "code",
   "execution_count": 6,
   "id": "431a8584",
   "metadata": {},
   "outputs": [
    {
     "name": "stdout",
     "output_type": "stream",
     "text": [
      "Mangoes\n",
      "Which is fruit your favourite fruit? Apple\n",
      "Apple\n",
      "What is your name?Arslan\n",
      "Hello! Arslan\n",
      "What is your name? Arslan\n",
      "How old are you?18\n",
      "Hello! Arslan You are still young.\n"
     ]
    }
   ],
   "source": [
    "fruit_basket=\"Mangoes\"\n",
    "print(fruit_basket)\n",
    "\n",
    "#Input functions simple\n",
    "fruit_basket=input(\"Which is fruit your favourite fruit? \")\n",
    "print(fruit_basket)\n",
    "\n",
    "#Input functions stage 2\n",
    "name=input(\"What is your name?\")\n",
    "greetings=\"Hello!\"\n",
    "print(greetings,name)\n",
    "\n",
    "#Input functions stage 3\n",
    "name=input(\"What is your name? \")\n",
    "age=input(\"How old are you?\")\n",
    "greetings=\"Hello!\"\n",
    "print(greetings,name,\"You are still young.\")"
   ]
  },
  {
   "cell_type": "markdown",
   "id": "4eecaa0e",
   "metadata": {},
   "source": [
    "*Input functions simple*\n",
    "\n",
    "*Input functions stage 2*\n",
    "\n",
    "*Input functions stage 3*\n",
    "\n"
   ]
  },
  {
   "cell_type": "markdown",
   "id": "8407fd59",
   "metadata": {},
   "source": [
    "**07_Logical_Operators**"
   ]
  },
  {
   "cell_type": "markdown",
   "id": "cfd5f10a",
   "metadata": {},
   "source": [
    "## Logical operstors are either true or false\n",
    "1-equal to                      ==\n",
    "\n",
    "2-not equal to                  !=\n",
    "\n",
    "3-less than                     >\n",
    "\n",
    "4-greater than                  >  \n",
    "\n",
    "5-less than and equal to        <=\n",
    "\n",
    "6-greater than and equal to     >= "
   ]
  },
  {
   "cell_type": "code",
   "execution_count": 7,
   "id": "29ccc6c0",
   "metadata": {},
   "outputs": [
    {
     "name": "stdout",
     "output_type": "stream",
     "text": [
      "True\n",
      "False\n",
      "True\n",
      "True\n",
      "True\n",
      "True\n",
      "False\n",
      "What is your age=18\n",
      "<class 'int'>\n",
      "False\n"
     ]
    }
   ],
   "source": [
    "\n",
    "print(4==4)\n",
    "print(4!=4)\n",
    "print(4>3)\n",
    "print(3<4)\n",
    "print(3<=5)\n",
    "print(5>=3)\n",
    "\n",
    "# Applications of logical operators\n",
    "x_age=4\n",
    "school_age_requirement=5\n",
    "print(x_age==school_age_requirement)\n",
    "\n",
    "# input function and logical operator\n",
    "\n",
    "school_age_requirement=5\n",
    "x_age=input(\"What is your age=\" ) #input function\n",
    "x_age=int(x_age) # to convert string to integer\n",
    "print(type(x_age))\n",
    "print(x_age==school_age_requirement) # logical operator"
   ]
  },
  {
   "cell_type": "markdown",
   "id": "6db84240",
   "metadata": {},
   "source": [
    "**08_Type_Conversion**"
   ]
  },
  {
   "cell_type": "code",
   "execution_count": 8,
   "id": "76b877f8",
   "metadata": {},
   "outputs": [
    {
     "name": "stdout",
     "output_type": "stream",
     "text": [
      "105.0 Type of x is:  <class 'float'>\n",
      "What is your age? 18\n",
      "18 <class 'int'>\n",
      "What is your name? Arslan\n",
      "Arslan <class 'str'>\n"
     ]
    }
   ],
   "source": [
    "x=10            #Integer\n",
    "y=10.5          #Float\n",
    "z=\"Hello\"       #STring\n",
    "\n",
    "#Implicit type conversion\n",
    "x=x*y\n",
    "print(x, \"Type of x is: \" ,type(x))\n",
    "\n",
    "#exlicit tye conversion\n",
    "age=input(\"What is your age? \") #this age will be string not integer\n",
    "age=int(age) #this will be integer\n",
    "print(age, type(age))\n",
    "\n",
    "#Name\n",
    "name=input(\"What is your name? \")\n",
    "print(name, type(str(name)))"
   ]
  },
  {
   "cell_type": "markdown",
   "id": "cbd6bd87",
   "metadata": {},
   "source": [
    "**09_If_Else_Elif**"
   ]
  },
  {
   "cell_type": "code",
   "execution_count": 9,
   "id": "e8356d7f",
   "metadata": {},
   "outputs": [
    {
     "name": "stdout",
     "output_type": "stream",
     "text": [
      "Tell your age: 18\n",
      "x should join higher secondary school\n"
     ]
    }
   ],
   "source": [
    "required_age_at_school=5\n",
    "x_age=input(\"Tell your age: \")\n",
    "x_age=int(x_age)\n",
    "#Question: can x goto school?\n",
    "if x_age==required_age_at_school:\n",
    "    print(\"Cngratulations! x can join the school\")\n",
    "elif (x_age>required_age_at_school):\n",
    "    print(\"x should join higher secondary school\")\n",
    "else:\n",
    "    print(\"x cannot join the school\")\n"
   ]
  },
  {
   "cell_type": "markdown",
   "id": "a8e9d529",
   "metadata": {},
   "source": [
    "**10_Defining_Functions**"
   ]
  },
  {
   "cell_type": "code",
   "execution_count": 10,
   "id": "a08cec14",
   "metadata": {},
   "outputs": [
    {
     "name": "stdout",
     "output_type": "stream",
     "text": [
      "Arslan Ahmad\n",
      "Muhammad Arslan Ahmad\n",
      "Muhammad Arsla Ahmad\n",
      "X can join the school\n",
      "38\n"
     ]
    }
   ],
   "source": [
    "# Define function \n",
    "#1 way\n",
    "def print_my_name():\n",
    "    print(\"Arslan Ahmad\")\n",
    "\n",
    "print_my_name()\n",
    "\n",
    "# 2 way \n",
    "def print_my_name():\n",
    "    text=\"Muhammad Arslan Ahmad\"\n",
    "    print(text)\n",
    "\n",
    "print_my_name()\n",
    "\n",
    "# 3 way\n",
    "def print_my_name(text):\n",
    "    print(text)\n",
    "print_my_name(\"Muhammad Arsla Ahmad\")\n",
    "\n",
    "# 4 way \n",
    "#  Defining a function with if elif and else statements\n",
    "def school_age_calculator(age):\n",
    "    if age==5:\n",
    "        print(\"X can join the school\")\n",
    "    else:\n",
    "        print(\"X cannot join the school\")\n",
    "school_age_calculator(5)\n",
    "\n",
    "# Defining a function of future age \n",
    "def future_age(age):\n",
    "    new_age=age+20\n",
    "    return(new_age)\n",
    "print(future_age(18))\n",
    "\n"
   ]
  },
  {
   "cell_type": "markdown",
   "id": "86138d52",
   "metadata": {},
   "source": [
    "**11_Loops**"
   ]
  },
  {
   "cell_type": "code",
   "execution_count": 11,
   "id": "447fddc9",
   "metadata": {},
   "outputs": [
    {
     "name": "stdout",
     "output_type": "stream",
     "text": [
      "0\n",
      "1\n",
      "2\n",
      "3\n",
      "4\n",
      "5\n",
      "6\n",
      "7\n",
      "8\n",
      "9\n",
      "Mon\n",
      "Tues\n",
      "Wed\n",
      "Thurs\n",
      "Sat\n",
      "Sun\n"
     ]
    }
   ],
   "source": [
    "# while and for loops\n",
    "\n",
    "#while loops\n",
    "x=0\n",
    "while (x<5):\n",
    "    print(x)\n",
    "    x=x+1\n",
    "\n",
    "#for loops\n",
    "\n",
    "for x in range(5,10):\n",
    "    print(x)\n",
    "\n",
    "# arrays\n",
    "days=[\"Mon\",\"Tues\",\"Wed\",\"Thurs\",\"Fri\",\"Sat\",\"Sun\"]\n",
    "for i in (days):\n",
    "    # if (i==\"Fri\"):break # break stops the loop\n",
    "    if (i==\"Fri\"):continue # continue skips i\n",
    "    print(i)\n",
    "\n"
   ]
  },
  {
   "cell_type": "markdown",
   "id": "3e08ab0a",
   "metadata": {},
   "source": [
    "**12_Import_Libraries**"
   ]
  },
  {
   "cell_type": "code",
   "execution_count": 12,
   "id": "3b517c7f",
   "metadata": {},
   "outputs": [
    {
     "name": "stdout",
     "output_type": "stream",
     "text": [
      "The value of pi is  3.141592653589793\n",
      "300\n"
     ]
    }
   ],
   "source": [
    "# if you want to print value of pi\n",
    "\n",
    "import math\n",
    "print(\"The value of pi is \",math.pi)\n",
    "\n",
    "# Library for mean,median etc\n",
    "import statistics\n",
    "x=[150,250,350,450]\n",
    "print(statistics.mean(x))\n"
   ]
  },
  {
   "cell_type": "markdown",
   "id": "b87d5eeb",
   "metadata": {},
   "source": [
    "**13_Trouble_Shooting**"
   ]
  },
  {
   "cell_type": "code",
   "execution_count": 13,
   "id": "eac211dd",
   "metadata": {},
   "outputs": [
    {
     "name": "stdout",
     "output_type": "stream",
     "text": [
      "Hello  Arslan\n"
     ]
    }
   ],
   "source": [
    "# print(we are learning python with sir Ammar) #syntax error\n",
    "\n",
    "#print(25/0) #runtime error\n",
    "\n",
    "name=\"Arslan\"\n",
    "#print(\"Hello name\") #Symantic error\n",
    "\n",
    "print(\"Hello \",name) #Correct"
   ]
  },
  {
   "cell_type": "code",
   "execution_count": null,
   "id": "3c8efc7b",
   "metadata": {},
   "outputs": [],
   "source": []
  }
 ],
 "metadata": {
  "kernelspec": {
   "display_name": "Python 3 (ipykernel)",
   "language": "python",
   "name": "python3"
  },
  "language_info": {
   "codemirror_mode": {
    "name": "ipython",
    "version": 3
   },
   "file_extension": ".py",
   "mimetype": "text/x-python",
   "name": "python",
   "nbconvert_exporter": "python",
   "pygments_lexer": "ipython3",
   "version": "3.9.7"
  }
 },
 "nbformat": 4,
 "nbformat_minor": 5
}
