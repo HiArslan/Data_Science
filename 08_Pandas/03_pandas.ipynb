{
 "cells": [
  {
   "cell_type": "markdown",
   "metadata": {},
   "source": [
    "# Pandas Tutorial Day(11)\n",
    "- This cell explains all the types of data manipuation and also how to clean data and uses of using pandas libraray."
   ]
  },
  {
   "cell_type": "markdown",
   "metadata": {},
   "source": [
    "> ___Installing ibraries___"
   ]
  },
  {
   "cell_type": "code",
   "execution_count": 3,
   "metadata": {},
   "outputs": [],
   "source": [
    "# pip install pandas"
   ]
  },
  {
   "cell_type": "markdown",
   "metadata": {},
   "source": [
    "> ___Importing libraries___"
   ]
  },
  {
   "cell_type": "code",
   "execution_count": 4,
   "metadata": {},
   "outputs": [],
   "source": [
    "import numpy as np\n",
    "import pandas as pd\n"
   ]
  },
  {
   "cell_type": "markdown",
   "metadata": {},
   "source": [
    "> ___Creating an object___"
   ]
  },
  {
   "cell_type": "code",
   "execution_count": 5,
   "metadata": {},
   "outputs": [
    {
     "data": {
      "text/plain": [
       "0    1.0\n",
       "1    2.0\n",
       "2    3.0\n",
       "3    NaN\n",
       "4    4.0\n",
       "5    5.0\n",
       "dtype: float64"
      ]
     },
     "execution_count": 5,
     "metadata": {},
     "output_type": "execute_result"
    }
   ],
   "source": [
    "s=pd.Series([1,2,3, np.nan ,4,5])\n",
    "s"
   ]
  },
  {
   "cell_type": "markdown",
   "metadata": {},
   "source": [
    "> ___Importing dates data___\n"
   ]
  },
  {
   "cell_type": "code",
   "execution_count": 6,
   "metadata": {},
   "outputs": [
    {
     "data": {
      "text/plain": [
       "DatetimeIndex(['2022-01-01', '2022-01-02', '2022-01-03', '2022-01-04',\n",
       "               '2022-01-05', '2022-01-06', '2022-01-07', '2022-01-08',\n",
       "               '2022-01-09', '2022-01-10', '2022-01-11'],\n",
       "              dtype='datetime64[ns]', freq='D')"
      ]
     },
     "execution_count": 6,
     "metadata": {},
     "output_type": "execute_result"
    }
   ],
   "source": [
    "dates=pd.date_range(\"20220101\" , periods=11) #For 6 days\n",
    "dates\n"
   ]
  },
  {
   "cell_type": "markdown",
   "metadata": {},
   "source": [
    "> ___Generating data___"
   ]
  },
  {
   "cell_type": "code",
   "execution_count": 7,
   "metadata": {},
   "outputs": [
    {
     "data": {
      "text/html": [
       "<div>\n",
       "<style scoped>\n",
       "    .dataframe tbody tr th:only-of-type {\n",
       "        vertical-align: middle;\n",
       "    }\n",
       "\n",
       "    .dataframe tbody tr th {\n",
       "        vertical-align: top;\n",
       "    }\n",
       "\n",
       "    .dataframe thead th {\n",
       "        text-align: right;\n",
       "    }\n",
       "</style>\n",
       "<table border=\"1\" class=\"dataframe\">\n",
       "  <thead>\n",
       "    <tr style=\"text-align: right;\">\n",
       "      <th></th>\n",
       "      <th>A</th>\n",
       "      <th>B</th>\n",
       "      <th>C</th>\n",
       "      <th>D</th>\n",
       "    </tr>\n",
       "  </thead>\n",
       "  <tbody>\n",
       "    <tr>\n",
       "      <th>2022-01-01</th>\n",
       "      <td>0.543837</td>\n",
       "      <td>0.214695</td>\n",
       "      <td>0.635271</td>\n",
       "      <td>0.254398</td>\n",
       "    </tr>\n",
       "    <tr>\n",
       "      <th>2022-01-02</th>\n",
       "      <td>0.112449</td>\n",
       "      <td>0.228647</td>\n",
       "      <td>0.324365</td>\n",
       "      <td>0.500440</td>\n",
       "    </tr>\n",
       "    <tr>\n",
       "      <th>2022-01-03</th>\n",
       "      <td>0.744592</td>\n",
       "      <td>0.700449</td>\n",
       "      <td>0.904791</td>\n",
       "      <td>0.842435</td>\n",
       "    </tr>\n",
       "    <tr>\n",
       "      <th>2022-01-04</th>\n",
       "      <td>0.017824</td>\n",
       "      <td>0.144852</td>\n",
       "      <td>0.190568</td>\n",
       "      <td>0.098712</td>\n",
       "    </tr>\n",
       "    <tr>\n",
       "      <th>2022-01-05</th>\n",
       "      <td>0.414791</td>\n",
       "      <td>0.756275</td>\n",
       "      <td>0.299679</td>\n",
       "      <td>0.914627</td>\n",
       "    </tr>\n",
       "    <tr>\n",
       "      <th>2022-01-06</th>\n",
       "      <td>0.220581</td>\n",
       "      <td>0.221533</td>\n",
       "      <td>0.430868</td>\n",
       "      <td>0.814824</td>\n",
       "    </tr>\n",
       "    <tr>\n",
       "      <th>2022-01-07</th>\n",
       "      <td>0.744176</td>\n",
       "      <td>0.411037</td>\n",
       "      <td>0.158896</td>\n",
       "      <td>0.581272</td>\n",
       "    </tr>\n",
       "    <tr>\n",
       "      <th>2022-01-08</th>\n",
       "      <td>0.694966</td>\n",
       "      <td>0.109148</td>\n",
       "      <td>0.348117</td>\n",
       "      <td>0.863556</td>\n",
       "    </tr>\n",
       "    <tr>\n",
       "      <th>2022-01-09</th>\n",
       "      <td>0.794057</td>\n",
       "      <td>0.378843</td>\n",
       "      <td>0.007817</td>\n",
       "      <td>0.427117</td>\n",
       "    </tr>\n",
       "    <tr>\n",
       "      <th>2022-01-10</th>\n",
       "      <td>0.829800</td>\n",
       "      <td>0.900237</td>\n",
       "      <td>0.047188</td>\n",
       "      <td>0.610605</td>\n",
       "    </tr>\n",
       "    <tr>\n",
       "      <th>2022-01-11</th>\n",
       "      <td>0.167201</td>\n",
       "      <td>0.407745</td>\n",
       "      <td>0.815805</td>\n",
       "      <td>0.399428</td>\n",
       "    </tr>\n",
       "  </tbody>\n",
       "</table>\n",
       "</div>"
      ],
      "text/plain": [
       "                   A         B         C         D\n",
       "2022-01-01  0.543837  0.214695  0.635271  0.254398\n",
       "2022-01-02  0.112449  0.228647  0.324365  0.500440\n",
       "2022-01-03  0.744592  0.700449  0.904791  0.842435\n",
       "2022-01-04  0.017824  0.144852  0.190568  0.098712\n",
       "2022-01-05  0.414791  0.756275  0.299679  0.914627\n",
       "2022-01-06  0.220581  0.221533  0.430868  0.814824\n",
       "2022-01-07  0.744176  0.411037  0.158896  0.581272\n",
       "2022-01-08  0.694966  0.109148  0.348117  0.863556\n",
       "2022-01-09  0.794057  0.378843  0.007817  0.427117\n",
       "2022-01-10  0.829800  0.900237  0.047188  0.610605\n",
       "2022-01-11  0.167201  0.407745  0.815805  0.399428"
      ]
     },
     "execution_count": 7,
     "metadata": {},
     "output_type": "execute_result"
    }
   ],
   "source": [
    "dates=pd.date_range(\"20220101\" , periods=11) #For 6 days\n",
    "dates\n",
    "df=pd.DataFrame(np.random.rand(11,4), index=dates, columns=list(\"ABCD\")) #rand(11,4) means 11 rows and 4 colunms\n",
    "df"
   ]
  },
  {
   "cell_type": "markdown",
   "metadata": {},
   "source": [
    "___Type of data___"
   ]
  },
  {
   "cell_type": "code",
   "execution_count": 8,
   "metadata": {},
   "outputs": [
    {
     "data": {
      "text/plain": [
       "A    float64\n",
       "B    float64\n",
       "C    float64\n",
       "D    float64\n",
       "dtype: object"
      ]
     },
     "execution_count": 8,
     "metadata": {},
     "output_type": "execute_result"
    }
   ],
   "source": [
    "df.dtypes\n"
   ]
  },
  {
   "cell_type": "markdown",
   "metadata": {},
   "source": [
    "___Head to see limited data from above___\n",
    "\n"
   ]
  },
  {
   "cell_type": "code",
   "execution_count": 9,
   "metadata": {},
   "outputs": [
    {
     "data": {
      "text/html": [
       "<div>\n",
       "<style scoped>\n",
       "    .dataframe tbody tr th:only-of-type {\n",
       "        vertical-align: middle;\n",
       "    }\n",
       "\n",
       "    .dataframe tbody tr th {\n",
       "        vertical-align: top;\n",
       "    }\n",
       "\n",
       "    .dataframe thead th {\n",
       "        text-align: right;\n",
       "    }\n",
       "</style>\n",
       "<table border=\"1\" class=\"dataframe\">\n",
       "  <thead>\n",
       "    <tr style=\"text-align: right;\">\n",
       "      <th></th>\n",
       "      <th>A</th>\n",
       "      <th>B</th>\n",
       "      <th>C</th>\n",
       "      <th>D</th>\n",
       "    </tr>\n",
       "  </thead>\n",
       "  <tbody>\n",
       "    <tr>\n",
       "      <th>2022-01-01</th>\n",
       "      <td>0.543837</td>\n",
       "      <td>0.214695</td>\n",
       "      <td>0.635271</td>\n",
       "      <td>0.254398</td>\n",
       "    </tr>\n",
       "    <tr>\n",
       "      <th>2022-01-02</th>\n",
       "      <td>0.112449</td>\n",
       "      <td>0.228647</td>\n",
       "      <td>0.324365</td>\n",
       "      <td>0.500440</td>\n",
       "    </tr>\n",
       "  </tbody>\n",
       "</table>\n",
       "</div>"
      ],
      "text/plain": [
       "                   A         B         C         D\n",
       "2022-01-01  0.543837  0.214695  0.635271  0.254398\n",
       "2022-01-02  0.112449  0.228647  0.324365  0.500440"
      ]
     },
     "execution_count": 9,
     "metadata": {},
     "output_type": "execute_result"
    }
   ],
   "source": [
    "df.head(2)\n"
   ]
  },
  {
   "cell_type": "markdown",
   "metadata": {},
   "source": [
    "___Tail to see limited data from down___"
   ]
  },
  {
   "cell_type": "code",
   "execution_count": 10,
   "metadata": {},
   "outputs": [
    {
     "data": {
      "text/html": [
       "<div>\n",
       "<style scoped>\n",
       "    .dataframe tbody tr th:only-of-type {\n",
       "        vertical-align: middle;\n",
       "    }\n",
       "\n",
       "    .dataframe tbody tr th {\n",
       "        vertical-align: top;\n",
       "    }\n",
       "\n",
       "    .dataframe thead th {\n",
       "        text-align: right;\n",
       "    }\n",
       "</style>\n",
       "<table border=\"1\" class=\"dataframe\">\n",
       "  <thead>\n",
       "    <tr style=\"text-align: right;\">\n",
       "      <th></th>\n",
       "      <th>A</th>\n",
       "      <th>B</th>\n",
       "      <th>C</th>\n",
       "      <th>D</th>\n",
       "    </tr>\n",
       "  </thead>\n",
       "  <tbody>\n",
       "    <tr>\n",
       "      <th>2022-01-10</th>\n",
       "      <td>0.829800</td>\n",
       "      <td>0.900237</td>\n",
       "      <td>0.047188</td>\n",
       "      <td>0.610605</td>\n",
       "    </tr>\n",
       "    <tr>\n",
       "      <th>2022-01-11</th>\n",
       "      <td>0.167201</td>\n",
       "      <td>0.407745</td>\n",
       "      <td>0.815805</td>\n",
       "      <td>0.399428</td>\n",
       "    </tr>\n",
       "  </tbody>\n",
       "</table>\n",
       "</div>"
      ],
      "text/plain": [
       "                   A         B         C         D\n",
       "2022-01-10  0.829800  0.900237  0.047188  0.610605\n",
       "2022-01-11  0.167201  0.407745  0.815805  0.399428"
      ]
     },
     "execution_count": 10,
     "metadata": {},
     "output_type": "execute_result"
    }
   ],
   "source": [
    "df.tail(2)"
   ]
  },
  {
   "cell_type": "markdown",
   "metadata": {},
   "source": [
    "___To see indexes of data___"
   ]
  },
  {
   "cell_type": "code",
   "execution_count": 11,
   "metadata": {},
   "outputs": [
    {
     "data": {
      "text/plain": [
       "DatetimeIndex(['2022-01-01', '2022-01-02', '2022-01-03', '2022-01-04',\n",
       "               '2022-01-05', '2022-01-06', '2022-01-07', '2022-01-08',\n",
       "               '2022-01-09', '2022-01-10', '2022-01-11'],\n",
       "              dtype='datetime64[ns]', freq='D')"
      ]
     },
     "execution_count": 11,
     "metadata": {},
     "output_type": "execute_result"
    }
   ],
   "source": [
    "df.index"
   ]
  },
  {
   "cell_type": "markdown",
   "metadata": {},
   "source": [
    "___To convet data into numpy___"
   ]
  },
  {
   "cell_type": "code",
   "execution_count": 12,
   "metadata": {},
   "outputs": [
    {
     "data": {
      "text/plain": [
       "<bound method DataFrame.to_numpy of                    A         B         C         D\n",
       "2022-01-01  0.543837  0.214695  0.635271  0.254398\n",
       "2022-01-02  0.112449  0.228647  0.324365  0.500440\n",
       "2022-01-03  0.744592  0.700449  0.904791  0.842435\n",
       "2022-01-04  0.017824  0.144852  0.190568  0.098712\n",
       "2022-01-05  0.414791  0.756275  0.299679  0.914627\n",
       "2022-01-06  0.220581  0.221533  0.430868  0.814824\n",
       "2022-01-07  0.744176  0.411037  0.158896  0.581272\n",
       "2022-01-08  0.694966  0.109148  0.348117  0.863556\n",
       "2022-01-09  0.794057  0.378843  0.007817  0.427117\n",
       "2022-01-10  0.829800  0.900237  0.047188  0.610605\n",
       "2022-01-11  0.167201  0.407745  0.815805  0.399428>"
      ]
     },
     "execution_count": 12,
     "metadata": {},
     "output_type": "execute_result"
    }
   ],
   "source": [
    "df.to_numpy"
   ]
  },
  {
   "cell_type": "markdown",
   "metadata": {},
   "source": [
    "___Description of all data like mean median etc___"
   ]
  },
  {
   "cell_type": "code",
   "execution_count": 13,
   "metadata": {},
   "outputs": [
    {
     "data": {
      "text/html": [
       "<div>\n",
       "<style scoped>\n",
       "    .dataframe tbody tr th:only-of-type {\n",
       "        vertical-align: middle;\n",
       "    }\n",
       "\n",
       "    .dataframe tbody tr th {\n",
       "        vertical-align: top;\n",
       "    }\n",
       "\n",
       "    .dataframe thead th {\n",
       "        text-align: right;\n",
       "    }\n",
       "</style>\n",
       "<table border=\"1\" class=\"dataframe\">\n",
       "  <thead>\n",
       "    <tr style=\"text-align: right;\">\n",
       "      <th></th>\n",
       "      <th>A</th>\n",
       "      <th>B</th>\n",
       "      <th>C</th>\n",
       "      <th>D</th>\n",
       "    </tr>\n",
       "  </thead>\n",
       "  <tbody>\n",
       "    <tr>\n",
       "      <th>count</th>\n",
       "      <td>11.000000</td>\n",
       "      <td>11.000000</td>\n",
       "      <td>11.000000</td>\n",
       "      <td>11.000000</td>\n",
       "    </tr>\n",
       "    <tr>\n",
       "      <th>mean</th>\n",
       "      <td>0.480388</td>\n",
       "      <td>0.406678</td>\n",
       "      <td>0.378488</td>\n",
       "      <td>0.573401</td>\n",
       "    </tr>\n",
       "    <tr>\n",
       "      <th>std</th>\n",
       "      <td>0.304823</td>\n",
       "      <td>0.266987</td>\n",
       "      <td>0.296256</td>\n",
       "      <td>0.267734</td>\n",
       "    </tr>\n",
       "    <tr>\n",
       "      <th>min</th>\n",
       "      <td>0.017824</td>\n",
       "      <td>0.109148</td>\n",
       "      <td>0.007817</td>\n",
       "      <td>0.098712</td>\n",
       "    </tr>\n",
       "    <tr>\n",
       "      <th>25%</th>\n",
       "      <td>0.193891</td>\n",
       "      <td>0.218114</td>\n",
       "      <td>0.174732</td>\n",
       "      <td>0.413272</td>\n",
       "    </tr>\n",
       "    <tr>\n",
       "      <th>50%</th>\n",
       "      <td>0.543837</td>\n",
       "      <td>0.378843</td>\n",
       "      <td>0.324365</td>\n",
       "      <td>0.581272</td>\n",
       "    </tr>\n",
       "    <tr>\n",
       "      <th>75%</th>\n",
       "      <td>0.744384</td>\n",
       "      <td>0.555743</td>\n",
       "      <td>0.533069</td>\n",
       "      <td>0.828629</td>\n",
       "    </tr>\n",
       "    <tr>\n",
       "      <th>max</th>\n",
       "      <td>0.829800</td>\n",
       "      <td>0.900237</td>\n",
       "      <td>0.904791</td>\n",
       "      <td>0.914627</td>\n",
       "    </tr>\n",
       "  </tbody>\n",
       "</table>\n",
       "</div>"
      ],
      "text/plain": [
       "               A          B          C          D\n",
       "count  11.000000  11.000000  11.000000  11.000000\n",
       "mean    0.480388   0.406678   0.378488   0.573401\n",
       "std     0.304823   0.266987   0.296256   0.267734\n",
       "min     0.017824   0.109148   0.007817   0.098712\n",
       "25%     0.193891   0.218114   0.174732   0.413272\n",
       "50%     0.543837   0.378843   0.324365   0.581272\n",
       "75%     0.744384   0.555743   0.533069   0.828629\n",
       "max     0.829800   0.900237   0.904791   0.914627"
      ]
     },
     "execution_count": 13,
     "metadata": {},
     "output_type": "execute_result"
    }
   ],
   "source": [
    "df.describe()"
   ]
  },
  {
   "cell_type": "markdown",
   "metadata": {},
   "source": [
    "___Taking traspose of whole data___"
   ]
  },
  {
   "cell_type": "code",
   "execution_count": 14,
   "metadata": {},
   "outputs": [
    {
     "data": {
      "text/html": [
       "<div>\n",
       "<style scoped>\n",
       "    .dataframe tbody tr th:only-of-type {\n",
       "        vertical-align: middle;\n",
       "    }\n",
       "\n",
       "    .dataframe tbody tr th {\n",
       "        vertical-align: top;\n",
       "    }\n",
       "\n",
       "    .dataframe thead th {\n",
       "        text-align: right;\n",
       "    }\n",
       "</style>\n",
       "<table border=\"1\" class=\"dataframe\">\n",
       "  <thead>\n",
       "    <tr style=\"text-align: right;\">\n",
       "      <th></th>\n",
       "      <th>2022-01-01</th>\n",
       "      <th>2022-01-02</th>\n",
       "      <th>2022-01-03</th>\n",
       "      <th>2022-01-04</th>\n",
       "      <th>2022-01-05</th>\n",
       "      <th>2022-01-06</th>\n",
       "      <th>2022-01-07</th>\n",
       "      <th>2022-01-08</th>\n",
       "      <th>2022-01-09</th>\n",
       "      <th>2022-01-10</th>\n",
       "      <th>2022-01-11</th>\n",
       "    </tr>\n",
       "  </thead>\n",
       "  <tbody>\n",
       "    <tr>\n",
       "      <th>A</th>\n",
       "      <td>0.543837</td>\n",
       "      <td>0.112449</td>\n",
       "      <td>0.744592</td>\n",
       "      <td>0.017824</td>\n",
       "      <td>0.414791</td>\n",
       "      <td>0.220581</td>\n",
       "      <td>0.744176</td>\n",
       "      <td>0.694966</td>\n",
       "      <td>0.794057</td>\n",
       "      <td>0.829800</td>\n",
       "      <td>0.167201</td>\n",
       "    </tr>\n",
       "    <tr>\n",
       "      <th>B</th>\n",
       "      <td>0.214695</td>\n",
       "      <td>0.228647</td>\n",
       "      <td>0.700449</td>\n",
       "      <td>0.144852</td>\n",
       "      <td>0.756275</td>\n",
       "      <td>0.221533</td>\n",
       "      <td>0.411037</td>\n",
       "      <td>0.109148</td>\n",
       "      <td>0.378843</td>\n",
       "      <td>0.900237</td>\n",
       "      <td>0.407745</td>\n",
       "    </tr>\n",
       "    <tr>\n",
       "      <th>C</th>\n",
       "      <td>0.635271</td>\n",
       "      <td>0.324365</td>\n",
       "      <td>0.904791</td>\n",
       "      <td>0.190568</td>\n",
       "      <td>0.299679</td>\n",
       "      <td>0.430868</td>\n",
       "      <td>0.158896</td>\n",
       "      <td>0.348117</td>\n",
       "      <td>0.007817</td>\n",
       "      <td>0.047188</td>\n",
       "      <td>0.815805</td>\n",
       "    </tr>\n",
       "    <tr>\n",
       "      <th>D</th>\n",
       "      <td>0.254398</td>\n",
       "      <td>0.500440</td>\n",
       "      <td>0.842435</td>\n",
       "      <td>0.098712</td>\n",
       "      <td>0.914627</td>\n",
       "      <td>0.814824</td>\n",
       "      <td>0.581272</td>\n",
       "      <td>0.863556</td>\n",
       "      <td>0.427117</td>\n",
       "      <td>0.610605</td>\n",
       "      <td>0.399428</td>\n",
       "    </tr>\n",
       "  </tbody>\n",
       "</table>\n",
       "</div>"
      ],
      "text/plain": [
       "   2022-01-01  2022-01-02  2022-01-03  2022-01-04  2022-01-05  2022-01-06  \\\n",
       "A    0.543837    0.112449    0.744592    0.017824    0.414791    0.220581   \n",
       "B    0.214695    0.228647    0.700449    0.144852    0.756275    0.221533   \n",
       "C    0.635271    0.324365    0.904791    0.190568    0.299679    0.430868   \n",
       "D    0.254398    0.500440    0.842435    0.098712    0.914627    0.814824   \n",
       "\n",
       "   2022-01-07  2022-01-08  2022-01-09  2022-01-10  2022-01-11  \n",
       "A    0.744176    0.694966    0.794057    0.829800    0.167201  \n",
       "B    0.411037    0.109148    0.378843    0.900237    0.407745  \n",
       "C    0.158896    0.348117    0.007817    0.047188    0.815805  \n",
       "D    0.581272    0.863556    0.427117    0.610605    0.399428  "
      ]
     },
     "execution_count": 14,
     "metadata": {},
     "output_type": "execute_result"
    }
   ],
   "source": [
    "df.T"
   ]
  },
  {
   "cell_type": "markdown",
   "metadata": {},
   "source": [
    "___Sorting data of a specific column___"
   ]
  },
  {
   "cell_type": "code",
   "execution_count": 15,
   "metadata": {},
   "outputs": [
    {
     "data": {
      "text/html": [
       "<div>\n",
       "<style scoped>\n",
       "    .dataframe tbody tr th:only-of-type {\n",
       "        vertical-align: middle;\n",
       "    }\n",
       "\n",
       "    .dataframe tbody tr th {\n",
       "        vertical-align: top;\n",
       "    }\n",
       "\n",
       "    .dataframe thead th {\n",
       "        text-align: right;\n",
       "    }\n",
       "</style>\n",
       "<table border=\"1\" class=\"dataframe\">\n",
       "  <thead>\n",
       "    <tr style=\"text-align: right;\">\n",
       "      <th></th>\n",
       "      <th>A</th>\n",
       "      <th>B</th>\n",
       "      <th>C</th>\n",
       "      <th>D</th>\n",
       "    </tr>\n",
       "  </thead>\n",
       "  <tbody>\n",
       "    <tr>\n",
       "      <th>2022-01-08</th>\n",
       "      <td>0.694966</td>\n",
       "      <td>0.109148</td>\n",
       "      <td>0.348117</td>\n",
       "      <td>0.863556</td>\n",
       "    </tr>\n",
       "    <tr>\n",
       "      <th>2022-01-04</th>\n",
       "      <td>0.017824</td>\n",
       "      <td>0.144852</td>\n",
       "      <td>0.190568</td>\n",
       "      <td>0.098712</td>\n",
       "    </tr>\n",
       "    <tr>\n",
       "      <th>2022-01-01</th>\n",
       "      <td>0.543837</td>\n",
       "      <td>0.214695</td>\n",
       "      <td>0.635271</td>\n",
       "      <td>0.254398</td>\n",
       "    </tr>\n",
       "    <tr>\n",
       "      <th>2022-01-06</th>\n",
       "      <td>0.220581</td>\n",
       "      <td>0.221533</td>\n",
       "      <td>0.430868</td>\n",
       "      <td>0.814824</td>\n",
       "    </tr>\n",
       "    <tr>\n",
       "      <th>2022-01-02</th>\n",
       "      <td>0.112449</td>\n",
       "      <td>0.228647</td>\n",
       "      <td>0.324365</td>\n",
       "      <td>0.500440</td>\n",
       "    </tr>\n",
       "    <tr>\n",
       "      <th>2022-01-09</th>\n",
       "      <td>0.794057</td>\n",
       "      <td>0.378843</td>\n",
       "      <td>0.007817</td>\n",
       "      <td>0.427117</td>\n",
       "    </tr>\n",
       "    <tr>\n",
       "      <th>2022-01-11</th>\n",
       "      <td>0.167201</td>\n",
       "      <td>0.407745</td>\n",
       "      <td>0.815805</td>\n",
       "      <td>0.399428</td>\n",
       "    </tr>\n",
       "    <tr>\n",
       "      <th>2022-01-07</th>\n",
       "      <td>0.744176</td>\n",
       "      <td>0.411037</td>\n",
       "      <td>0.158896</td>\n",
       "      <td>0.581272</td>\n",
       "    </tr>\n",
       "    <tr>\n",
       "      <th>2022-01-03</th>\n",
       "      <td>0.744592</td>\n",
       "      <td>0.700449</td>\n",
       "      <td>0.904791</td>\n",
       "      <td>0.842435</td>\n",
       "    </tr>\n",
       "    <tr>\n",
       "      <th>2022-01-05</th>\n",
       "      <td>0.414791</td>\n",
       "      <td>0.756275</td>\n",
       "      <td>0.299679</td>\n",
       "      <td>0.914627</td>\n",
       "    </tr>\n",
       "    <tr>\n",
       "      <th>2022-01-10</th>\n",
       "      <td>0.829800</td>\n",
       "      <td>0.900237</td>\n",
       "      <td>0.047188</td>\n",
       "      <td>0.610605</td>\n",
       "    </tr>\n",
       "  </tbody>\n",
       "</table>\n",
       "</div>"
      ],
      "text/plain": [
       "                   A         B         C         D\n",
       "2022-01-08  0.694966  0.109148  0.348117  0.863556\n",
       "2022-01-04  0.017824  0.144852  0.190568  0.098712\n",
       "2022-01-01  0.543837  0.214695  0.635271  0.254398\n",
       "2022-01-06  0.220581  0.221533  0.430868  0.814824\n",
       "2022-01-02  0.112449  0.228647  0.324365  0.500440\n",
       "2022-01-09  0.794057  0.378843  0.007817  0.427117\n",
       "2022-01-11  0.167201  0.407745  0.815805  0.399428\n",
       "2022-01-07  0.744176  0.411037  0.158896  0.581272\n",
       "2022-01-03  0.744592  0.700449  0.904791  0.842435\n",
       "2022-01-05  0.414791  0.756275  0.299679  0.914627\n",
       "2022-01-10  0.829800  0.900237  0.047188  0.610605"
      ]
     },
     "execution_count": 15,
     "metadata": {},
     "output_type": "execute_result"
    }
   ],
   "source": [
    "df.sort_values(by=\"B\")"
   ]
  },
  {
   "cell_type": "markdown",
   "metadata": {},
   "source": [
    "___Data of a specific column___"
   ]
  },
  {
   "cell_type": "code",
   "execution_count": 16,
   "metadata": {},
   "outputs": [
    {
     "data": {
      "text/plain": [
       "2022-01-01    0.543837\n",
       "2022-01-02    0.112449\n",
       "2022-01-03    0.744592\n",
       "2022-01-04    0.017824\n",
       "2022-01-05    0.414791\n",
       "2022-01-06    0.220581\n",
       "2022-01-07    0.744176\n",
       "2022-01-08    0.694966\n",
       "2022-01-09    0.794057\n",
       "2022-01-10    0.829800\n",
       "2022-01-11    0.167201\n",
       "Freq: D, Name: A, dtype: float64"
      ]
     },
     "execution_count": 16,
     "metadata": {},
     "output_type": "execute_result"
    }
   ],
   "source": [
    "df[\"A\"]"
   ]
  },
  {
   "cell_type": "markdown",
   "metadata": {},
   "source": [
    "___Slicing___"
   ]
  },
  {
   "cell_type": "code",
   "execution_count": 17,
   "metadata": {},
   "outputs": [
    {
     "data": {
      "text/html": [
       "<div>\n",
       "<style scoped>\n",
       "    .dataframe tbody tr th:only-of-type {\n",
       "        vertical-align: middle;\n",
       "    }\n",
       "\n",
       "    .dataframe tbody tr th {\n",
       "        vertical-align: top;\n",
       "    }\n",
       "\n",
       "    .dataframe thead th {\n",
       "        text-align: right;\n",
       "    }\n",
       "</style>\n",
       "<table border=\"1\" class=\"dataframe\">\n",
       "  <thead>\n",
       "    <tr style=\"text-align: right;\">\n",
       "      <th></th>\n",
       "      <th>A</th>\n",
       "      <th>B</th>\n",
       "      <th>C</th>\n",
       "      <th>D</th>\n",
       "    </tr>\n",
       "  </thead>\n",
       "  <tbody>\n",
       "    <tr>\n",
       "      <th>2022-01-01</th>\n",
       "      <td>0.543837</td>\n",
       "      <td>0.214695</td>\n",
       "      <td>0.635271</td>\n",
       "      <td>0.254398</td>\n",
       "    </tr>\n",
       "    <tr>\n",
       "      <th>2022-01-02</th>\n",
       "      <td>0.112449</td>\n",
       "      <td>0.228647</td>\n",
       "      <td>0.324365</td>\n",
       "      <td>0.500440</td>\n",
       "    </tr>\n",
       "    <tr>\n",
       "      <th>2022-01-03</th>\n",
       "      <td>0.744592</td>\n",
       "      <td>0.700449</td>\n",
       "      <td>0.904791</td>\n",
       "      <td>0.842435</td>\n",
       "    </tr>\n",
       "    <tr>\n",
       "      <th>2022-01-04</th>\n",
       "      <td>0.017824</td>\n",
       "      <td>0.144852</td>\n",
       "      <td>0.190568</td>\n",
       "      <td>0.098712</td>\n",
       "    </tr>\n",
       "    <tr>\n",
       "      <th>2022-01-05</th>\n",
       "      <td>0.414791</td>\n",
       "      <td>0.756275</td>\n",
       "      <td>0.299679</td>\n",
       "      <td>0.914627</td>\n",
       "    </tr>\n",
       "    <tr>\n",
       "      <th>2022-01-06</th>\n",
       "      <td>0.220581</td>\n",
       "      <td>0.221533</td>\n",
       "      <td>0.430868</td>\n",
       "      <td>0.814824</td>\n",
       "    </tr>\n",
       "    <tr>\n",
       "      <th>2022-01-07</th>\n",
       "      <td>0.744176</td>\n",
       "      <td>0.411037</td>\n",
       "      <td>0.158896</td>\n",
       "      <td>0.581272</td>\n",
       "    </tr>\n",
       "    <tr>\n",
       "      <th>2022-01-08</th>\n",
       "      <td>0.694966</td>\n",
       "      <td>0.109148</td>\n",
       "      <td>0.348117</td>\n",
       "      <td>0.863556</td>\n",
       "    </tr>\n",
       "    <tr>\n",
       "      <th>2022-01-09</th>\n",
       "      <td>0.794057</td>\n",
       "      <td>0.378843</td>\n",
       "      <td>0.007817</td>\n",
       "      <td>0.427117</td>\n",
       "    </tr>\n",
       "    <tr>\n",
       "      <th>2022-01-10</th>\n",
       "      <td>0.829800</td>\n",
       "      <td>0.900237</td>\n",
       "      <td>0.047188</td>\n",
       "      <td>0.610605</td>\n",
       "    </tr>\n",
       "    <tr>\n",
       "      <th>2022-01-11</th>\n",
       "      <td>0.167201</td>\n",
       "      <td>0.407745</td>\n",
       "      <td>0.815805</td>\n",
       "      <td>0.399428</td>\n",
       "    </tr>\n",
       "  </tbody>\n",
       "</table>\n",
       "</div>"
      ],
      "text/plain": [
       "                   A         B         C         D\n",
       "2022-01-01  0.543837  0.214695  0.635271  0.254398\n",
       "2022-01-02  0.112449  0.228647  0.324365  0.500440\n",
       "2022-01-03  0.744592  0.700449  0.904791  0.842435\n",
       "2022-01-04  0.017824  0.144852  0.190568  0.098712\n",
       "2022-01-05  0.414791  0.756275  0.299679  0.914627\n",
       "2022-01-06  0.220581  0.221533  0.430868  0.814824\n",
       "2022-01-07  0.744176  0.411037  0.158896  0.581272\n",
       "2022-01-08  0.694966  0.109148  0.348117  0.863556\n",
       "2022-01-09  0.794057  0.378843  0.007817  0.427117\n",
       "2022-01-10  0.829800  0.900237  0.047188  0.610605\n",
       "2022-01-11  0.167201  0.407745  0.815805  0.399428"
      ]
     },
     "execution_count": 17,
     "metadata": {},
     "output_type": "execute_result"
    }
   ],
   "source": [
    "df[0:11]"
   ]
  },
  {
   "cell_type": "markdown",
   "metadata": {},
   "source": [
    "___Data of all rows and 2 columns___"
   ]
  },
  {
   "cell_type": "code",
   "execution_count": 18,
   "metadata": {},
   "outputs": [
    {
     "data": {
      "text/html": [
       "<div>\n",
       "<style scoped>\n",
       "    .dataframe tbody tr th:only-of-type {\n",
       "        vertical-align: middle;\n",
       "    }\n",
       "\n",
       "    .dataframe tbody tr th {\n",
       "        vertical-align: top;\n",
       "    }\n",
       "\n",
       "    .dataframe thead th {\n",
       "        text-align: right;\n",
       "    }\n",
       "</style>\n",
       "<table border=\"1\" class=\"dataframe\">\n",
       "  <thead>\n",
       "    <tr style=\"text-align: right;\">\n",
       "      <th></th>\n",
       "      <th>A</th>\n",
       "      <th>B</th>\n",
       "    </tr>\n",
       "  </thead>\n",
       "  <tbody>\n",
       "    <tr>\n",
       "      <th>2022-01-01</th>\n",
       "      <td>0.543837</td>\n",
       "      <td>0.214695</td>\n",
       "    </tr>\n",
       "    <tr>\n",
       "      <th>2022-01-02</th>\n",
       "      <td>0.112449</td>\n",
       "      <td>0.228647</td>\n",
       "    </tr>\n",
       "    <tr>\n",
       "      <th>2022-01-03</th>\n",
       "      <td>0.744592</td>\n",
       "      <td>0.700449</td>\n",
       "    </tr>\n",
       "    <tr>\n",
       "      <th>2022-01-04</th>\n",
       "      <td>0.017824</td>\n",
       "      <td>0.144852</td>\n",
       "    </tr>\n",
       "    <tr>\n",
       "      <th>2022-01-05</th>\n",
       "      <td>0.414791</td>\n",
       "      <td>0.756275</td>\n",
       "    </tr>\n",
       "    <tr>\n",
       "      <th>2022-01-06</th>\n",
       "      <td>0.220581</td>\n",
       "      <td>0.221533</td>\n",
       "    </tr>\n",
       "    <tr>\n",
       "      <th>2022-01-07</th>\n",
       "      <td>0.744176</td>\n",
       "      <td>0.411037</td>\n",
       "    </tr>\n",
       "    <tr>\n",
       "      <th>2022-01-08</th>\n",
       "      <td>0.694966</td>\n",
       "      <td>0.109148</td>\n",
       "    </tr>\n",
       "    <tr>\n",
       "      <th>2022-01-09</th>\n",
       "      <td>0.794057</td>\n",
       "      <td>0.378843</td>\n",
       "    </tr>\n",
       "    <tr>\n",
       "      <th>2022-01-10</th>\n",
       "      <td>0.829800</td>\n",
       "      <td>0.900237</td>\n",
       "    </tr>\n",
       "    <tr>\n",
       "      <th>2022-01-11</th>\n",
       "      <td>0.167201</td>\n",
       "      <td>0.407745</td>\n",
       "    </tr>\n",
       "  </tbody>\n",
       "</table>\n",
       "</div>"
      ],
      "text/plain": [
       "                   A         B\n",
       "2022-01-01  0.543837  0.214695\n",
       "2022-01-02  0.112449  0.228647\n",
       "2022-01-03  0.744592  0.700449\n",
       "2022-01-04  0.017824  0.144852\n",
       "2022-01-05  0.414791  0.756275\n",
       "2022-01-06  0.220581  0.221533\n",
       "2022-01-07  0.744176  0.411037\n",
       "2022-01-08  0.694966  0.109148\n",
       "2022-01-09  0.794057  0.378843\n",
       "2022-01-10  0.829800  0.900237\n",
       "2022-01-11  0.167201  0.407745"
      ]
     },
     "execution_count": 18,
     "metadata": {},
     "output_type": "execute_result"
    }
   ],
   "source": [
    "df.loc[: , [\"A\",\"B\"]]"
   ]
  },
  {
   "cell_type": "markdown",
   "metadata": {},
   "source": [
    "___Data of specific dates and two columns___"
   ]
  },
  {
   "cell_type": "code",
   "execution_count": 19,
   "metadata": {},
   "outputs": [
    {
     "data": {
      "text/html": [
       "<div>\n",
       "<style scoped>\n",
       "    .dataframe tbody tr th:only-of-type {\n",
       "        vertical-align: middle;\n",
       "    }\n",
       "\n",
       "    .dataframe tbody tr th {\n",
       "        vertical-align: top;\n",
       "    }\n",
       "\n",
       "    .dataframe thead th {\n",
       "        text-align: right;\n",
       "    }\n",
       "</style>\n",
       "<table border=\"1\" class=\"dataframe\">\n",
       "  <thead>\n",
       "    <tr style=\"text-align: right;\">\n",
       "      <th></th>\n",
       "      <th>A</th>\n",
       "      <th>B</th>\n",
       "    </tr>\n",
       "  </thead>\n",
       "  <tbody>\n",
       "    <tr>\n",
       "      <th>2022-01-01</th>\n",
       "      <td>0.543837</td>\n",
       "      <td>0.214695</td>\n",
       "    </tr>\n",
       "    <tr>\n",
       "      <th>2022-01-02</th>\n",
       "      <td>0.112449</td>\n",
       "      <td>0.228647</td>\n",
       "    </tr>\n",
       "    <tr>\n",
       "      <th>2022-01-03</th>\n",
       "      <td>0.744592</td>\n",
       "      <td>0.700449</td>\n",
       "    </tr>\n",
       "    <tr>\n",
       "      <th>2022-01-04</th>\n",
       "      <td>0.017824</td>\n",
       "      <td>0.144852</td>\n",
       "    </tr>\n",
       "  </tbody>\n",
       "</table>\n",
       "</div>"
      ],
      "text/plain": [
       "                   A         B\n",
       "2022-01-01  0.543837  0.214695\n",
       "2022-01-02  0.112449  0.228647\n",
       "2022-01-03  0.744592  0.700449\n",
       "2022-01-04  0.017824  0.144852"
      ]
     },
     "execution_count": 19,
     "metadata": {},
     "output_type": "execute_result"
    }
   ],
   "source": [
    "df.loc[\"20220101\":\"20220104\",[\"A\",\"B\"]]"
   ]
  },
  {
   "cell_type": "code",
   "execution_count": 20,
   "metadata": {},
   "outputs": [
    {
     "data": {
      "text/plain": [
       "A    0.744176\n",
       "B    0.411037\n",
       "C    0.158896\n",
       "Name: 2022-01-07 00:00:00, dtype: float64"
      ]
     },
     "execution_count": 20,
     "metadata": {},
     "output_type": "execute_result"
    }
   ],
   "source": [
    "df.loc[\"20220107\",[\"A\",\"B\",\"C\"]]"
   ]
  },
  {
   "cell_type": "markdown",
   "metadata": {},
   "source": [
    "___Data of specific cell at specific date___ "
   ]
  },
  {
   "cell_type": "code",
   "execution_count": 21,
   "metadata": {},
   "outputs": [
    {
     "data": {
      "text/plain": [
       "0.16720100590196774"
      ]
     },
     "execution_count": 21,
     "metadata": {},
     "output_type": "execute_result"
    }
   ],
   "source": [
    "df.at[dates[10],\"A\"]"
   ]
  },
  {
   "cell_type": "markdown",
   "metadata": {},
   "source": [
    "___Data o"
   ]
  },
  {
   "cell_type": "markdown",
   "metadata": {},
   "source": [
    "___Data of column A greter than 0.2___"
   ]
  },
  {
   "cell_type": "code",
   "execution_count": 25,
   "metadata": {},
   "outputs": [
    {
     "data": {
      "text/html": [
       "<div>\n",
       "<style scoped>\n",
       "    .dataframe tbody tr th:only-of-type {\n",
       "        vertical-align: middle;\n",
       "    }\n",
       "\n",
       "    .dataframe tbody tr th {\n",
       "        vertical-align: top;\n",
       "    }\n",
       "\n",
       "    .dataframe thead th {\n",
       "        text-align: right;\n",
       "    }\n",
       "</style>\n",
       "<table border=\"1\" class=\"dataframe\">\n",
       "  <thead>\n",
       "    <tr style=\"text-align: right;\">\n",
       "      <th></th>\n",
       "      <th>A</th>\n",
       "      <th>B</th>\n",
       "      <th>C</th>\n",
       "      <th>D</th>\n",
       "      <th>E</th>\n",
       "    </tr>\n",
       "  </thead>\n",
       "  <tbody>\n",
       "    <tr>\n",
       "      <th>2022-01-01</th>\n",
       "      <td>0.543837</td>\n",
       "      <td>0.214695</td>\n",
       "      <td>0.635271</td>\n",
       "      <td>0.254398</td>\n",
       "      <td>One</td>\n",
       "    </tr>\n",
       "    <tr>\n",
       "      <th>2022-01-02</th>\n",
       "      <td>0.112449</td>\n",
       "      <td>0.228647</td>\n",
       "      <td>0.324365</td>\n",
       "      <td>0.500440</td>\n",
       "      <td>Two</td>\n",
       "    </tr>\n",
       "    <tr>\n",
       "      <th>2022-01-03</th>\n",
       "      <td>0.744592</td>\n",
       "      <td>0.700449</td>\n",
       "      <td>0.904791</td>\n",
       "      <td>0.842435</td>\n",
       "      <td>Three</td>\n",
       "    </tr>\n",
       "    <tr>\n",
       "      <th>2022-01-04</th>\n",
       "      <td>0.017824</td>\n",
       "      <td>0.144852</td>\n",
       "      <td>0.190568</td>\n",
       "      <td>0.098712</td>\n",
       "      <td>One</td>\n",
       "    </tr>\n",
       "    <tr>\n",
       "      <th>2022-01-05</th>\n",
       "      <td>0.414791</td>\n",
       "      <td>0.756275</td>\n",
       "      <td>0.299679</td>\n",
       "      <td>0.914627</td>\n",
       "      <td>Two</td>\n",
       "    </tr>\n",
       "    <tr>\n",
       "      <th>2022-01-06</th>\n",
       "      <td>0.220581</td>\n",
       "      <td>0.221533</td>\n",
       "      <td>0.430868</td>\n",
       "      <td>0.814824</td>\n",
       "      <td>Three</td>\n",
       "    </tr>\n",
       "    <tr>\n",
       "      <th>2022-01-07</th>\n",
       "      <td>0.744176</td>\n",
       "      <td>0.411037</td>\n",
       "      <td>0.158896</td>\n",
       "      <td>0.581272</td>\n",
       "      <td>One</td>\n",
       "    </tr>\n",
       "    <tr>\n",
       "      <th>2022-01-08</th>\n",
       "      <td>0.694966</td>\n",
       "      <td>0.109148</td>\n",
       "      <td>0.348117</td>\n",
       "      <td>0.863556</td>\n",
       "      <td>Two</td>\n",
       "    </tr>\n",
       "    <tr>\n",
       "      <th>2022-01-09</th>\n",
       "      <td>0.794057</td>\n",
       "      <td>0.378843</td>\n",
       "      <td>0.007817</td>\n",
       "      <td>0.427117</td>\n",
       "      <td>Three</td>\n",
       "    </tr>\n",
       "    <tr>\n",
       "      <th>2022-01-10</th>\n",
       "      <td>0.829800</td>\n",
       "      <td>0.900237</td>\n",
       "      <td>0.047188</td>\n",
       "      <td>0.610605</td>\n",
       "      <td>Two</td>\n",
       "    </tr>\n",
       "    <tr>\n",
       "      <th>2022-01-11</th>\n",
       "      <td>0.167201</td>\n",
       "      <td>0.407745</td>\n",
       "      <td>0.815805</td>\n",
       "      <td>0.399428</td>\n",
       "      <td>Three</td>\n",
       "    </tr>\n",
       "  </tbody>\n",
       "</table>\n",
       "</div>"
      ],
      "text/plain": [
       "                   A         B         C         D      E\n",
       "2022-01-01  0.543837  0.214695  0.635271  0.254398    One\n",
       "2022-01-02  0.112449  0.228647  0.324365  0.500440    Two\n",
       "2022-01-03  0.744592  0.700449  0.904791  0.842435  Three\n",
       "2022-01-04  0.017824  0.144852  0.190568  0.098712    One\n",
       "2022-01-05  0.414791  0.756275  0.299679  0.914627    Two\n",
       "2022-01-06  0.220581  0.221533  0.430868  0.814824  Three\n",
       "2022-01-07  0.744176  0.411037  0.158896  0.581272    One\n",
       "2022-01-08  0.694966  0.109148  0.348117  0.863556    Two\n",
       "2022-01-09  0.794057  0.378843  0.007817  0.427117  Three\n",
       "2022-01-10  0.829800  0.900237  0.047188  0.610605    Two\n",
       "2022-01-11  0.167201  0.407745  0.815805  0.399428  Three"
      ]
     },
     "execution_count": 25,
     "metadata": {},
     "output_type": "execute_result"
    }
   ],
   "source": [
    "df[df[\"A\"]>0.2]\n",
    "df"
   ]
  },
  {
   "cell_type": "markdown",
   "metadata": {},
   "source": [
    "___Adding a new column in data___"
   ]
  },
  {
   "cell_type": "code",
   "execution_count": 23,
   "metadata": {},
   "outputs": [
    {
     "data": {
      "text/html": [
       "<div>\n",
       "<style scoped>\n",
       "    .dataframe tbody tr th:only-of-type {\n",
       "        vertical-align: middle;\n",
       "    }\n",
       "\n",
       "    .dataframe tbody tr th {\n",
       "        vertical-align: top;\n",
       "    }\n",
       "\n",
       "    .dataframe thead th {\n",
       "        text-align: right;\n",
       "    }\n",
       "</style>\n",
       "<table border=\"1\" class=\"dataframe\">\n",
       "  <thead>\n",
       "    <tr style=\"text-align: right;\">\n",
       "      <th></th>\n",
       "      <th>A</th>\n",
       "      <th>B</th>\n",
       "      <th>C</th>\n",
       "      <th>D</th>\n",
       "      <th>E</th>\n",
       "    </tr>\n",
       "  </thead>\n",
       "  <tbody>\n",
       "    <tr>\n",
       "      <th>2022-01-01</th>\n",
       "      <td>0.543837</td>\n",
       "      <td>0.214695</td>\n",
       "      <td>0.635271</td>\n",
       "      <td>0.254398</td>\n",
       "      <td>One</td>\n",
       "    </tr>\n",
       "    <tr>\n",
       "      <th>2022-01-02</th>\n",
       "      <td>0.112449</td>\n",
       "      <td>0.228647</td>\n",
       "      <td>0.324365</td>\n",
       "      <td>0.500440</td>\n",
       "      <td>Two</td>\n",
       "    </tr>\n",
       "    <tr>\n",
       "      <th>2022-01-03</th>\n",
       "      <td>0.744592</td>\n",
       "      <td>0.700449</td>\n",
       "      <td>0.904791</td>\n",
       "      <td>0.842435</td>\n",
       "      <td>Three</td>\n",
       "    </tr>\n",
       "    <tr>\n",
       "      <th>2022-01-04</th>\n",
       "      <td>0.017824</td>\n",
       "      <td>0.144852</td>\n",
       "      <td>0.190568</td>\n",
       "      <td>0.098712</td>\n",
       "      <td>One</td>\n",
       "    </tr>\n",
       "    <tr>\n",
       "      <th>2022-01-05</th>\n",
       "      <td>0.414791</td>\n",
       "      <td>0.756275</td>\n",
       "      <td>0.299679</td>\n",
       "      <td>0.914627</td>\n",
       "      <td>Two</td>\n",
       "    </tr>\n",
       "    <tr>\n",
       "      <th>2022-01-06</th>\n",
       "      <td>0.220581</td>\n",
       "      <td>0.221533</td>\n",
       "      <td>0.430868</td>\n",
       "      <td>0.814824</td>\n",
       "      <td>Three</td>\n",
       "    </tr>\n",
       "    <tr>\n",
       "      <th>2022-01-07</th>\n",
       "      <td>0.744176</td>\n",
       "      <td>0.411037</td>\n",
       "      <td>0.158896</td>\n",
       "      <td>0.581272</td>\n",
       "      <td>One</td>\n",
       "    </tr>\n",
       "    <tr>\n",
       "      <th>2022-01-08</th>\n",
       "      <td>0.694966</td>\n",
       "      <td>0.109148</td>\n",
       "      <td>0.348117</td>\n",
       "      <td>0.863556</td>\n",
       "      <td>Two</td>\n",
       "    </tr>\n",
       "    <tr>\n",
       "      <th>2022-01-09</th>\n",
       "      <td>0.794057</td>\n",
       "      <td>0.378843</td>\n",
       "      <td>0.007817</td>\n",
       "      <td>0.427117</td>\n",
       "      <td>Three</td>\n",
       "    </tr>\n",
       "    <tr>\n",
       "      <th>2022-01-10</th>\n",
       "      <td>0.829800</td>\n",
       "      <td>0.900237</td>\n",
       "      <td>0.047188</td>\n",
       "      <td>0.610605</td>\n",
       "      <td>Two</td>\n",
       "    </tr>\n",
       "    <tr>\n",
       "      <th>2022-01-11</th>\n",
       "      <td>0.167201</td>\n",
       "      <td>0.407745</td>\n",
       "      <td>0.815805</td>\n",
       "      <td>0.399428</td>\n",
       "      <td>Three</td>\n",
       "    </tr>\n",
       "  </tbody>\n",
       "</table>\n",
       "</div>"
      ],
      "text/plain": [
       "                   A         B         C         D      E\n",
       "2022-01-01  0.543837  0.214695  0.635271  0.254398    One\n",
       "2022-01-02  0.112449  0.228647  0.324365  0.500440    Two\n",
       "2022-01-03  0.744592  0.700449  0.904791  0.842435  Three\n",
       "2022-01-04  0.017824  0.144852  0.190568  0.098712    One\n",
       "2022-01-05  0.414791  0.756275  0.299679  0.914627    Two\n",
       "2022-01-06  0.220581  0.221533  0.430868  0.814824  Three\n",
       "2022-01-07  0.744176  0.411037  0.158896  0.581272    One\n",
       "2022-01-08  0.694966  0.109148  0.348117  0.863556    Two\n",
       "2022-01-09  0.794057  0.378843  0.007817  0.427117  Three\n",
       "2022-01-10  0.829800  0.900237  0.047188  0.610605    Two\n",
       "2022-01-11  0.167201  0.407745  0.815805  0.399428  Three"
      ]
     },
     "execution_count": 23,
     "metadata": {},
     "output_type": "execute_result"
    }
   ],
   "source": [
    "df[\"E\"]=[\"One\",\"Two\",\"Three\",\"One\",\"Two\",\"Three\",\"One\",\"Two\",\"Three\",\"Two\",\"Three\"]\n",
    "df"
   ]
  },
  {
   "cell_type": "markdown",
   "metadata": {},
   "source": [
    "___Adding a new column in data___"
   ]
  },
  {
   "cell_type": "code",
   "execution_count": 26,
   "metadata": {},
   "outputs": [
    {
     "data": {
      "text/html": [
       "<div>\n",
       "<style scoped>\n",
       "    .dataframe tbody tr th:only-of-type {\n",
       "        vertical-align: middle;\n",
       "    }\n",
       "\n",
       "    .dataframe tbody tr th {\n",
       "        vertical-align: top;\n",
       "    }\n",
       "\n",
       "    .dataframe thead th {\n",
       "        text-align: right;\n",
       "    }\n",
       "</style>\n",
       "<table border=\"1\" class=\"dataframe\">\n",
       "  <thead>\n",
       "    <tr style=\"text-align: right;\">\n",
       "      <th></th>\n",
       "      <th>A</th>\n",
       "      <th>B</th>\n",
       "      <th>C</th>\n",
       "      <th>D</th>\n",
       "      <th>E</th>\n",
       "      <th>F</th>\n",
       "    </tr>\n",
       "  </thead>\n",
       "  <tbody>\n",
       "    <tr>\n",
       "      <th>2022-01-01</th>\n",
       "      <td>0.543837</td>\n",
       "      <td>0.214695</td>\n",
       "      <td>0.635271</td>\n",
       "      <td>0.254398</td>\n",
       "      <td>One</td>\n",
       "      <td>1</td>\n",
       "    </tr>\n",
       "    <tr>\n",
       "      <th>2022-01-02</th>\n",
       "      <td>0.112449</td>\n",
       "      <td>0.228647</td>\n",
       "      <td>0.324365</td>\n",
       "      <td>0.500440</td>\n",
       "      <td>Two</td>\n",
       "      <td>2</td>\n",
       "    </tr>\n",
       "    <tr>\n",
       "      <th>2022-01-03</th>\n",
       "      <td>0.744592</td>\n",
       "      <td>0.700449</td>\n",
       "      <td>0.904791</td>\n",
       "      <td>0.842435</td>\n",
       "      <td>Three</td>\n",
       "      <td>3</td>\n",
       "    </tr>\n",
       "    <tr>\n",
       "      <th>2022-01-04</th>\n",
       "      <td>0.017824</td>\n",
       "      <td>0.144852</td>\n",
       "      <td>0.190568</td>\n",
       "      <td>0.098712</td>\n",
       "      <td>One</td>\n",
       "      <td>4</td>\n",
       "    </tr>\n",
       "    <tr>\n",
       "      <th>2022-01-05</th>\n",
       "      <td>0.414791</td>\n",
       "      <td>0.756275</td>\n",
       "      <td>0.299679</td>\n",
       "      <td>0.914627</td>\n",
       "      <td>Two</td>\n",
       "      <td>5</td>\n",
       "    </tr>\n",
       "    <tr>\n",
       "      <th>2022-01-06</th>\n",
       "      <td>0.220581</td>\n",
       "      <td>0.221533</td>\n",
       "      <td>0.430868</td>\n",
       "      <td>0.814824</td>\n",
       "      <td>Three</td>\n",
       "      <td>6</td>\n",
       "    </tr>\n",
       "    <tr>\n",
       "      <th>2022-01-07</th>\n",
       "      <td>0.744176</td>\n",
       "      <td>0.411037</td>\n",
       "      <td>0.158896</td>\n",
       "      <td>0.581272</td>\n",
       "      <td>One</td>\n",
       "      <td>7</td>\n",
       "    </tr>\n",
       "    <tr>\n",
       "      <th>2022-01-08</th>\n",
       "      <td>0.694966</td>\n",
       "      <td>0.109148</td>\n",
       "      <td>0.348117</td>\n",
       "      <td>0.863556</td>\n",
       "      <td>Two</td>\n",
       "      <td>8</td>\n",
       "    </tr>\n",
       "    <tr>\n",
       "      <th>2022-01-09</th>\n",
       "      <td>0.794057</td>\n",
       "      <td>0.378843</td>\n",
       "      <td>0.007817</td>\n",
       "      <td>0.427117</td>\n",
       "      <td>Three</td>\n",
       "      <td>9</td>\n",
       "    </tr>\n",
       "    <tr>\n",
       "      <th>2022-01-10</th>\n",
       "      <td>0.829800</td>\n",
       "      <td>0.900237</td>\n",
       "      <td>0.047188</td>\n",
       "      <td>0.610605</td>\n",
       "      <td>Two</td>\n",
       "      <td>10</td>\n",
       "    </tr>\n",
       "    <tr>\n",
       "      <th>2022-01-11</th>\n",
       "      <td>0.167201</td>\n",
       "      <td>0.407745</td>\n",
       "      <td>0.815805</td>\n",
       "      <td>0.399428</td>\n",
       "      <td>Three</td>\n",
       "      <td>11</td>\n",
       "    </tr>\n",
       "  </tbody>\n",
       "</table>\n",
       "</div>"
      ],
      "text/plain": [
       "                   A         B         C         D      E   F\n",
       "2022-01-01  0.543837  0.214695  0.635271  0.254398    One   1\n",
       "2022-01-02  0.112449  0.228647  0.324365  0.500440    Two   2\n",
       "2022-01-03  0.744592  0.700449  0.904791  0.842435  Three   3\n",
       "2022-01-04  0.017824  0.144852  0.190568  0.098712    One   4\n",
       "2022-01-05  0.414791  0.756275  0.299679  0.914627    Two   5\n",
       "2022-01-06  0.220581  0.221533  0.430868  0.814824  Three   6\n",
       "2022-01-07  0.744176  0.411037  0.158896  0.581272    One   7\n",
       "2022-01-08  0.694966  0.109148  0.348117  0.863556    Two   8\n",
       "2022-01-09  0.794057  0.378843  0.007817  0.427117  Three   9\n",
       "2022-01-10  0.829800  0.900237  0.047188  0.610605    Two  10\n",
       "2022-01-11  0.167201  0.407745  0.815805  0.399428  Three  11"
      ]
     },
     "execution_count": 26,
     "metadata": {},
     "output_type": "execute_result"
    }
   ],
   "source": [
    "df[\"F\"]=[1,2,3,4,5,6,7,8,9,10,11]\n",
    "df"
   ]
  },
  {
   "cell_type": "code",
   "execution_count": null,
   "metadata": {},
   "outputs": [],
   "source": []
  }
 ],
 "metadata": {
  "interpreter": {
   "hash": "a1e66d0dd0a7fc2c8464a8c5d070d01dcd6087146d6d356941cac1264ee91058"
  },
  "kernelspec": {
   "display_name": "Python 3.10.1 64-bit",
   "language": "python",
   "name": "python3"
  },
  "language_info": {
   "codemirror_mode": {
    "name": "ipython",
    "version": 3
   },
   "file_extension": ".py",
   "mimetype": "text/x-python",
   "name": "python",
   "nbconvert_exporter": "python",
   "pygments_lexer": "ipython3",
   "version": "3.10.1"
  },
  "orig_nbformat": 4
 },
 "nbformat": 4,
 "nbformat_minor": 2
}
