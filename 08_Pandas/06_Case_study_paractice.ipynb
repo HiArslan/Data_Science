{
 "cells": [
  {
   "cell_type": "markdown",
   "metadata": {},
   "source": [
    "- ___Participant name = Muhammad Arslan Ahmad___ \n",
    "- ___Mobile number 03019249687___"
   ]
  },
  {
   "cell_type": "markdown",
   "metadata": {},
   "source": [
    "# _FAO Assignment_"
   ]
  },
  {
   "cell_type": "markdown",
   "metadata": {},
   "source": [
    "> ___Importing libraries___"
   ]
  },
  {
   "cell_type": "code",
   "execution_count": 1,
   "metadata": {},
   "outputs": [],
   "source": [
    "import pandas as pd\n",
    "import numpy as np\n",
    "import matplotlib.pyplot as plt\n",
    "import seaborn as sns\n"
   ]
  },
  {
   "cell_type": "markdown",
   "metadata": {},
   "source": [
    "> ___Reading data from csv___"
   ]
  },
  {
   "cell_type": "code",
   "execution_count": 2,
   "metadata": {},
   "outputs": [
    {
     "data": {
      "text/html": [
       "<div>\n",
       "<style scoped>\n",
       "    .dataframe tbody tr th:only-of-type {\n",
       "        vertical-align: middle;\n",
       "    }\n",
       "\n",
       "    .dataframe tbody tr th {\n",
       "        vertical-align: top;\n",
       "    }\n",
       "\n",
       "    .dataframe thead th {\n",
       "        text-align: right;\n",
       "    }\n",
       "</style>\n",
       "<table border=\"1\" class=\"dataframe\">\n",
       "  <thead>\n",
       "    <tr style=\"text-align: right;\">\n",
       "      <th></th>\n",
       "      <th>Domain Code</th>\n",
       "      <th>Domain</th>\n",
       "      <th>Area Code</th>\n",
       "      <th>Area</th>\n",
       "      <th>Element Code</th>\n",
       "      <th>Element</th>\n",
       "      <th>Item Code</th>\n",
       "      <th>Item</th>\n",
       "      <th>Year Code</th>\n",
       "      <th>Year</th>\n",
       "      <th>Unit</th>\n",
       "      <th>Value</th>\n",
       "      <th>Flag</th>\n",
       "      <th>Flag Description</th>\n",
       "    </tr>\n",
       "  </thead>\n",
       "  <tbody>\n",
       "    <tr>\n",
       "      <th>0</th>\n",
       "      <td>GN</td>\n",
       "      <td>Energy Use</td>\n",
       "      <td>165</td>\n",
       "      <td>Pakistan</td>\n",
       "      <td>7273</td>\n",
       "      <td>Emissions (CO2)</td>\n",
       "      <td>6804</td>\n",
       "      <td>Fuel oil</td>\n",
       "      <td>1972</td>\n",
       "      <td>1972</td>\n",
       "      <td>kilotonnes</td>\n",
       "      <td>9.3809</td>\n",
       "      <td>X</td>\n",
       "      <td>International reliable sources</td>\n",
       "    </tr>\n",
       "    <tr>\n",
       "      <th>1</th>\n",
       "      <td>GN</td>\n",
       "      <td>Energy Use</td>\n",
       "      <td>165</td>\n",
       "      <td>Pakistan</td>\n",
       "      <td>7273</td>\n",
       "      <td>Emissions (CO2)</td>\n",
       "      <td>6804</td>\n",
       "      <td>Fuel oil</td>\n",
       "      <td>1973</td>\n",
       "      <td>1973</td>\n",
       "      <td>kilotonnes</td>\n",
       "      <td>7.2962</td>\n",
       "      <td>X</td>\n",
       "      <td>International reliable sources</td>\n",
       "    </tr>\n",
       "    <tr>\n",
       "      <th>2</th>\n",
       "      <td>GN</td>\n",
       "      <td>Energy Use</td>\n",
       "      <td>165</td>\n",
       "      <td>Pakistan</td>\n",
       "      <td>7273</td>\n",
       "      <td>Emissions (CO2)</td>\n",
       "      <td>6804</td>\n",
       "      <td>Fuel oil</td>\n",
       "      <td>1974</td>\n",
       "      <td>1974</td>\n",
       "      <td>kilotonnes</td>\n",
       "      <td>5.2116</td>\n",
       "      <td>X</td>\n",
       "      <td>International reliable sources</td>\n",
       "    </tr>\n",
       "    <tr>\n",
       "      <th>3</th>\n",
       "      <td>GN</td>\n",
       "      <td>Energy Use</td>\n",
       "      <td>165</td>\n",
       "      <td>Pakistan</td>\n",
       "      <td>7273</td>\n",
       "      <td>Emissions (CO2)</td>\n",
       "      <td>6804</td>\n",
       "      <td>Fuel oil</td>\n",
       "      <td>1975</td>\n",
       "      <td>1975</td>\n",
       "      <td>kilotonnes</td>\n",
       "      <td>3.1270</td>\n",
       "      <td>X</td>\n",
       "      <td>International reliable sources</td>\n",
       "    </tr>\n",
       "    <tr>\n",
       "      <th>4</th>\n",
       "      <td>GN</td>\n",
       "      <td>Energy Use</td>\n",
       "      <td>165</td>\n",
       "      <td>Pakistan</td>\n",
       "      <td>7273</td>\n",
       "      <td>Emissions (CO2)</td>\n",
       "      <td>6804</td>\n",
       "      <td>Fuel oil</td>\n",
       "      <td>1976</td>\n",
       "      <td>1976</td>\n",
       "      <td>kilotonnes</td>\n",
       "      <td>3.1270</td>\n",
       "      <td>X</td>\n",
       "      <td>International reliable sources</td>\n",
       "    </tr>\n",
       "  </tbody>\n",
       "</table>\n",
       "</div>"
      ],
      "text/plain": [
       "  Domain Code      Domain  Area Code      Area  Element Code          Element  \\\n",
       "0          GN  Energy Use        165  Pakistan          7273  Emissions (CO2)   \n",
       "1          GN  Energy Use        165  Pakistan          7273  Emissions (CO2)   \n",
       "2          GN  Energy Use        165  Pakistan          7273  Emissions (CO2)   \n",
       "3          GN  Energy Use        165  Pakistan          7273  Emissions (CO2)   \n",
       "4          GN  Energy Use        165  Pakistan          7273  Emissions (CO2)   \n",
       "\n",
       "   Item Code      Item  Year Code  Year        Unit   Value Flag  \\\n",
       "0       6804  Fuel oil       1972  1972  kilotonnes  9.3809    X   \n",
       "1       6804  Fuel oil       1973  1973  kilotonnes  7.2962    X   \n",
       "2       6804  Fuel oil       1974  1974  kilotonnes  5.2116    X   \n",
       "3       6804  Fuel oil       1975  1975  kilotonnes  3.1270    X   \n",
       "4       6804  Fuel oil       1976  1976  kilotonnes  3.1270    X   \n",
       "\n",
       "                 Flag Description  \n",
       "0  International reliable sources  \n",
       "1  International reliable sources  \n",
       "2  International reliable sources  \n",
       "3  International reliable sources  \n",
       "4  International reliable sources  "
      ]
     },
     "execution_count": 2,
     "metadata": {},
     "output_type": "execute_result"
    }
   ],
   "source": [
    "data=pd.read_csv(\"FAOSTAT_data_Co2_Emission.csv\")\n",
    "data.head()"
   ]
  },
  {
   "cell_type": "markdown",
   "metadata": {},
   "source": [
    "> ___Converting data into numpy___"
   ]
  },
  {
   "cell_type": "code",
   "execution_count": 4,
   "metadata": {},
   "outputs": [
    {
     "data": {
      "text/plain": [
       "array([['GN', 'Energy Use', 165, 'Pakistan', 7273, 'Emissions (CO2)',\n",
       "        6804, 'Fuel oil', 1972, 1972, 'kilotonnes', 9.3809, 'X',\n",
       "        'International reliable sources'],\n",
       "       ['GN', 'Energy Use', 165, 'Pakistan', 7273, 'Emissions (CO2)',\n",
       "        6804, 'Fuel oil', 1973, 1973, 'kilotonnes', 7.2962, 'X',\n",
       "        'International reliable sources'],\n",
       "       ['GN', 'Energy Use', 165, 'Pakistan', 7273, 'Emissions (CO2)',\n",
       "        6804, 'Fuel oil', 1974, 1974, 'kilotonnes', 5.2116, 'X',\n",
       "        'International reliable sources'],\n",
       "       ['GN', 'Energy Use', 165, 'Pakistan', 7273, 'Emissions (CO2)',\n",
       "        6804, 'Fuel oil', 1975, 1975, 'kilotonnes', 3.127, 'X',\n",
       "        'International reliable sources'],\n",
       "       ['GN', 'Energy Use', 165, 'Pakistan', 7273, 'Emissions (CO2)',\n",
       "        6804, 'Fuel oil', 1976, 1976, 'kilotonnes', 3.127, 'X',\n",
       "        'International reliable sources'],\n",
       "       ['GN', 'Energy Use', 165, 'Pakistan', 7273, 'Emissions (CO2)',\n",
       "        6804, 'Fuel oil', 1977, 1977, 'kilotonnes', 2.5893, 'X',\n",
       "        'International reliable sources'],\n",
       "       ['GN', 'Energy Use', 165, 'Pakistan', 7273, 'Emissions (CO2)',\n",
       "        6804, 'Fuel oil', 1978, 1978, 'kilotonnes', 2.581, 'X',\n",
       "        'International reliable sources'],\n",
       "       ['GN', 'Energy Use', 165, 'Pakistan', 7273, 'Emissions (CO2)',\n",
       "        6804, 'Fuel oil', 1979, 1979, 'kilotonnes', 2.6637, 'X',\n",
       "        'International reliable sources'],\n",
       "       ['GN', 'Energy Use', 165, 'Pakistan', 7273, 'Emissions (CO2)',\n",
       "        6804, 'Fuel oil', 1980, 1980, 'kilotonnes', 2.4817, 'X',\n",
       "        'International reliable sources'],\n",
       "       ['GN', 'Energy Use', 165, 'Pakistan', 7273, 'Emissions (CO2)',\n",
       "        6804, 'Fuel oil', 1981, 1981, 'kilotonnes', 2.5396, 'X',\n",
       "        'International reliable sources'],\n",
       "       ['GN', 'Energy Use', 165, 'Pakistan', 7273, 'Emissions (CO2)',\n",
       "        6804, 'Fuel oil', 1982, 1982, 'kilotonnes', 2.6554, 'X',\n",
       "        'International reliable sources'],\n",
       "       ['GN', 'Energy Use', 165, 'Pakistan', 7273, 'Emissions (CO2)',\n",
       "        6804, 'Fuel oil', 1983, 1983, 'kilotonnes', 2.6637, 'X',\n",
       "        'International reliable sources'],\n",
       "       ['GN', 'Energy Use', 165, 'Pakistan', 7273, 'Emissions (CO2)',\n",
       "        6804, 'Fuel oil', 1984, 1984, 'kilotonnes', 2.7878, 'X',\n",
       "        'International reliable sources'],\n",
       "       ['GN', 'Energy Use', 165, 'Pakistan', 7273, 'Emissions (CO2)',\n",
       "        6804, 'Fuel oil', 1985, 1985, 'kilotonnes', 2.2005, 'X',\n",
       "        'International reliable sources'],\n",
       "       ['GN', 'Energy Use', 165, 'Pakistan', 7273, 'Emissions (CO2)',\n",
       "        6804, 'Fuel oil', 1986, 1986, 'kilotonnes', 1.8696, 'X',\n",
       "        'International reliable sources'],\n",
       "       ['GN', 'Energy Use', 165, 'Pakistan', 7273, 'Emissions (CO2)',\n",
       "        6804, 'Fuel oil', 1987, 1987, 'kilotonnes', 0.0745, 'X',\n",
       "        'International reliable sources'],\n",
       "       ['GN', 'Energy Use', 165, 'Pakistan', 7273, 'Emissions (CO2)',\n",
       "        6804, 'Fuel oil', 1988, 1988, 'kilotonnes', 0.1985, 'X',\n",
       "        'International reliable sources'],\n",
       "       ['GN', 'Energy Use', 165, 'Pakistan', 7273, 'Emissions (CO2)',\n",
       "        6804, 'Fuel oil', 1989, 1989, 'kilotonnes', 0.1489, 'X',\n",
       "        'International reliable sources'],\n",
       "       ['GN', 'Energy Use', 165, 'Pakistan', 7273, 'Emissions (CO2)',\n",
       "        6804, 'Fuel oil', 1990, 1990, 'kilotonnes', 11.176, 'F',\n",
       "        'FAO estimate'],\n",
       "       ['GN', 'Energy Use', 165, 'Pakistan', 7273, 'Emissions (CO2)',\n",
       "        6804, 'Fuel oil', 1991, 1991, 'kilotonnes', 9.7945, 'F',\n",
       "        'FAO estimate'],\n",
       "       ['GN', 'Energy Use', 165, 'Pakistan', 7273, 'Emissions (CO2)',\n",
       "        6804, 'Fuel oil', 1992, 1992, 'kilotonnes', 9.6125, 'F',\n",
       "        'FAO estimate'],\n",
       "       ['GN', 'Energy Use', 165, 'Pakistan', 7273, 'Emissions (CO2)',\n",
       "        6804, 'Fuel oil', 1993, 1993, 'kilotonnes', 11.8378, 'F',\n",
       "        'FAO estimate'],\n",
       "       ['GN', 'Energy Use', 165, 'Pakistan', 7273, 'Emissions (CO2)',\n",
       "        6804, 'Fuel oil', 1994, 1994, 'kilotonnes', 12.7229, 'F',\n",
       "        'FAO estimate'],\n",
       "       ['GN', 'Energy Use', 165, 'Pakistan', 7273, 'Emissions (CO2)',\n",
       "        6804, 'Fuel oil', 1995, 1995, 'kilotonnes', 14.5511, 'F',\n",
       "        'FAO estimate'],\n",
       "       ['GN', 'Energy Use', 165, 'Pakistan', 7273, 'Emissions (CO2)',\n",
       "        6804, 'Fuel oil', 1996, 1996, 'kilotonnes', 18.6211, 'F',\n",
       "        'FAO estimate'],\n",
       "       ['GN', 'Energy Use', 165, 'Pakistan', 7273, 'Emissions (CO2)',\n",
       "        6804, 'Fuel oil', 1997, 1997, 'kilotonnes', 16.4289, 'F',\n",
       "        'FAO estimate'],\n",
       "       ['GN', 'Energy Use', 165, 'Pakistan', 7273, 'Emissions (CO2)',\n",
       "        6804, 'Fuel oil', 1998, 1998, 'kilotonnes', 15.792, 'F',\n",
       "        'FAO estimate'],\n",
       "       ['GN', 'Energy Use', 165, 'Pakistan', 7273, 'Emissions (CO2)',\n",
       "        6804, 'Fuel oil', 1999, 1999, 'kilotonnes', 16.4207, 'F',\n",
       "        'FAO estimate'],\n",
       "       ['GN', 'Energy Use', 165, 'Pakistan', 7273, 'Emissions (CO2)',\n",
       "        6804, 'Fuel oil', 2000, 2000, 'kilotonnes', 16.3462, 'F',\n",
       "        'FAO estimate'],\n",
       "       ['GN', 'Energy Use', 165, 'Pakistan', 7273, 'Emissions (CO2)',\n",
       "        6804, 'Fuel oil', 2001, 2001, 'kilotonnes', 12.0942, 'F',\n",
       "        'FAO estimate'],\n",
       "       ['GN', 'Energy Use', 165, 'Pakistan', 7273, 'Emissions (CO2)',\n",
       "        6804, 'Fuel oil', 2002, 2002, 'kilotonnes', 11.0271, 'F',\n",
       "        'FAO estimate'],\n",
       "       ['GN', 'Energy Use', 165, 'Pakistan', 7273, 'Emissions (CO2)',\n",
       "        6804, 'Fuel oil', 2003, 2003, 'kilotonnes', 9.4573, 'F',\n",
       "        'FAO estimate'],\n",
       "       ['GN', 'Energy Use', 165, 'Pakistan', 7273, 'Emissions (CO2)',\n",
       "        6804, 'Fuel oil', 2004, 2004, 'kilotonnes', 9.5435, 'F',\n",
       "        'FAO estimate'],\n",
       "       ['GN', 'Energy Use', 165, 'Pakistan', 7273, 'Emissions (CO2)',\n",
       "        6804, 'Fuel oil', 2005, 2005, 'kilotonnes', 7.2202, 'F',\n",
       "        'FAO estimate'],\n",
       "       ['GN', 'Energy Use', 165, 'Pakistan', 7273, 'Emissions (CO2)',\n",
       "        6804, 'Fuel oil', 2006, 2006, 'kilotonnes', 5.7156, 'F',\n",
       "        'FAO estimate'],\n",
       "       ['GN', 'Energy Use', 165, 'Pakistan', 7273, 'Emissions (CO2)',\n",
       "        6804, 'Fuel oil', 2007, 2007, 'kilotonnes', 4.5638, 'F',\n",
       "        'FAO estimate'],\n",
       "       ['GN', 'Energy Use', 165, 'Pakistan', 7273, 'Emissions (CO2)',\n",
       "        6804, 'Fuel oil', 2008, 2008, 'kilotonnes', 4.4304, 'F',\n",
       "        'FAO estimate'],\n",
       "       ['GN', 'Energy Use', 165, 'Pakistan', 7273, 'Emissions (CO2)',\n",
       "        6804, 'Fuel oil', 2009, 2009, 'kilotonnes', 3.9272, 'F',\n",
       "        'FAO estimate'],\n",
       "       ['GN', 'Energy Use', 165, 'Pakistan', 7273, 'Emissions (CO2)',\n",
       "        6804, 'Fuel oil', 2010, 2010, 'kilotonnes', 7.2996, 'F',\n",
       "        'FAO estimate'],\n",
       "       ['GN', 'Energy Use', 165, 'Pakistan', 7273, 'Emissions (CO2)',\n",
       "        6804, 'Fuel oil', 2011, 2011, 'kilotonnes', 7.3028, 'F',\n",
       "        'FAO estimate'],\n",
       "       ['GN', 'Energy Use', 165, 'Pakistan', 7273, 'Emissions (CO2)',\n",
       "        6804, 'Fuel oil', 2012, 2012, 'kilotonnes', 7.015, 'F',\n",
       "        'FAO estimate'],\n",
       "       ['GN', 'Energy Use', 165, 'Pakistan', 7273, 'Emissions (CO2)',\n",
       "        6804, 'Fuel oil', 2013, 2013, 'kilotonnes', 4.4304, 'F',\n",
       "        'FAO estimate'],\n",
       "       ['GN', 'Energy Use', 165, 'Pakistan', 7273, 'Emissions (CO2)',\n",
       "        6804, 'Fuel oil', 2014, 2014, 'kilotonnes', 3.9272, 'F',\n",
       "        'FAO estimate'],\n",
       "       ['GN', 'Energy Use', 165, 'Pakistan', 7273, 'Emissions (CO2)',\n",
       "        6804, 'Fuel oil', 2015, 2015, 'kilotonnes', 12.1463, 'F',\n",
       "        'FAO estimate'],\n",
       "       ['GN', 'Energy Use', 165, 'Pakistan', 7273, 'Emissions (CO2)',\n",
       "        6804, 'Fuel oil', 2016, 2016, 'kilotonnes', 12.8205, 'F',\n",
       "        'FAO estimate'],\n",
       "       ['GN', 'Energy Use', 165, 'Pakistan', 7273, 'Emissions (CO2)',\n",
       "        6804, 'Fuel oil', 2017, 2017, 'kilotonnes', 9.6952, 'F',\n",
       "        'FAO estimate'],\n",
       "       ['GN', 'Energy Use', 165, 'Pakistan', 7273, 'Emissions (CO2)',\n",
       "        6804, 'Fuel oil', 2018, 2018, 'kilotonnes', 10.2164, 'F',\n",
       "        'FAO estimate'],\n",
       "       ['GN', 'Energy Use', 165, 'Pakistan', 7273, 'Emissions (CO2)',\n",
       "        6804, 'Fuel oil', 2019, 2019, 'kilotonnes', 11.4742, 'F',\n",
       "        'FAO estimate']], dtype=object)"
      ]
     },
     "execution_count": 4,
     "metadata": {},
     "output_type": "execute_result"
    }
   ],
   "source": [
    "data.to_numpy()"
   ]
  },
  {
   "cell_type": "markdown",
   "metadata": {},
   "source": [
    "> ___Description of all data___"
   ]
  },
  {
   "cell_type": "code",
   "execution_count": null,
   "metadata": {},
   "outputs": [],
   "source": [
    "data.describe()"
   ]
  },
  {
   "cell_type": "markdown",
   "metadata": {},
   "source": [
    "> ___Transpose of data___"
   ]
  },
  {
   "cell_type": "code",
   "execution_count": null,
   "metadata": {},
   "outputs": [],
   "source": [
    "data.T.head()"
   ]
  },
  {
   "cell_type": "markdown",
   "metadata": {},
   "source": [
    "> ___Sorting data___"
   ]
  },
  {
   "cell_type": "code",
   "execution_count": null,
   "metadata": {},
   "outputs": [],
   "source": [
    "sorted_data=data.sort_values(by=\"Value\")\n",
    "sorted_data"
   ]
  },
  {
   "cell_type": "markdown",
   "metadata": {},
   "source": [
    "> ___Slicing___"
   ]
  },
  {
   "cell_type": "code",
   "execution_count": null,
   "metadata": {},
   "outputs": [],
   "source": [
    "data[1:10]"
   ]
  },
  {
   "cell_type": "markdown",
   "metadata": {},
   "source": []
  },
  {
   "cell_type": "markdown",
   "metadata": {},
   "source": [
    "> ___\"loc\" fuunction for specific indexes and columns___"
   ]
  },
  {
   "cell_type": "code",
   "execution_count": null,
   "metadata": {},
   "outputs": [],
   "source": [
    "data.loc[1:10,[\"Element\",\"Year\",\"Value\"]]"
   ]
  },
  {
   "cell_type": "markdown",
   "metadata": {},
   "source": [
    "## ___Lineplot of sorted value(kilotonnes) of Emission of Co2___"
   ]
  },
  {
   "cell_type": "code",
   "execution_count": null,
   "metadata": {},
   "outputs": [],
   "source": [
    "plt.figure(figsize=(15,10))\n",
    "sns.set_theme(style=\"ticks\",color_codes=True)\n",
    "sns.lineplot(x=\"Year\",y=\"Value\",hue=\"Element\",data=sorted_data,palette=\"pastel\")\n",
    "plt.xlabel(\"Year\",size=22,weight=\"bold\")\n",
    "plt.ylabel(\"Value(Kilotonnes)\",size=22,weight=\"bold\")\n",
    "plt.title(\"Fuel Emission(Co2) in Pakistan with the passing years\",size=25,weight=\"bold\")\n",
    "plt.savefig(\"Carbon dioxide emission.png\",dpi=300)\n",
    "plt.show()"
   ]
  },
  {
   "cell_type": "markdown",
   "metadata": {},
   "source": [
    "## ___Barplot of Emission of Co2 and its value(Kilotens)___"
   ]
  },
  {
   "cell_type": "code",
   "execution_count": null,
   "metadata": {},
   "outputs": [],
   "source": [
    "plt.figure(figsize=(20,10))\n",
    "sns.set_theme(style=\"ticks\",color_codes=True)\n",
    "sns.barplot(x=\"Item\",y=\"Value\",hue=\"Year\",data=data,palette=\"pastel\")\n",
    "plt.xlabel(\"Item\",size=22,weight=\"bold\")\n",
    "plt.ylabel(\"Value(Kilotonnes)\",size=22,weight=\"bold\")\n",
    "plt.title(\"Fuel Emission(Co2) in Pakistan with the passing years\",size=25,weight=\"bold\")\n",
    "plt.savefig(\"Barplot of carbon dioxide emission.png\",dpi=300)\n",
    "plt.show()"
   ]
  },
  {
   "cell_type": "markdown",
   "metadata": {},
   "source": [
    "## ___Boxplot of value(Kilotonnes) of Emission of Co2___ "
   ]
  },
  {
   "cell_type": "code",
   "execution_count": null,
   "metadata": {},
   "outputs": [],
   "source": [
    "plt.figure(figsize=(30,15))\n",
    "sns.set_theme(style=\"ticks\",color_codes=True)\n",
    "sns.boxplot(x=\"Value\",y=\"Year\",data=data,palette=\"pastel\",dodge=True,saturation=1)\n",
    "plt.xlabel(\"Value(Kilotonnes\",size=30,weight=\"bold\")\n",
    "plt.ylabel(\"Year\",size=30,weight=\"bold\")\n",
    "plt.title(\"Boxplot of Emission(Co2) in Pakistan with the passing years\",size=35,weight=\"bold\")\n",
    "plt.show()"
   ]
  },
  {
   "cell_type": "code",
   "execution_count": null,
   "metadata": {},
   "outputs": [],
   "source": []
  }
 ],
 "metadata": {
  "interpreter": {
   "hash": "a1e66d0dd0a7fc2c8464a8c5d070d01dcd6087146d6d356941cac1264ee91058"
  },
  "kernelspec": {
   "display_name": "Python 3.10.1 64-bit",
   "language": "python",
   "name": "python3"
  },
  "language_info": {
   "codemirror_mode": {
    "name": "ipython",
    "version": 3
   },
   "file_extension": ".py",
   "mimetype": "text/x-python",
   "name": "python",
   "nbconvert_exporter": "python",
   "pygments_lexer": "ipython3",
   "version": "3.10.1"
  },
  "orig_nbformat": 4
 },
 "nbformat": 4,
 "nbformat_minor": 2
}
